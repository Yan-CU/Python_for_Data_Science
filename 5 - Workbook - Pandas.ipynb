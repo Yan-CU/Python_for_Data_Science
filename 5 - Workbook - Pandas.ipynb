{
 "cells": [
  {
   "cell_type": "markdown",
   "metadata": {},
   "source": [
    "#### COMPANION WORKBOOK\n",
    "\n",
    "# Pandas\n",
    "\n",
    "To make the most out this program, we strongly recommend you to:\n",
    "1. First practice writing and implementing all of the code from Coding Section of the online lesson.\n",
    "2. Then, freely experiment with and explore any interesting or confusing concepts. Simply insert new code cells and then use the help of Google and official documentation.\n",
    "3. Finally, tackle all of the exercises at the end. They will help you tie everything together and **learn in context.**\n",
    "\n",
    "#### <span style=\"color:#555\">LESSON CODE SANDBOX</span>\n",
    "\n",
    "Use this space to practice writing and implementing all of the code from Coding Section of the online lesson. Insert new code cells as needed, and feel free to write notes to yourself in Markdown."
   ]
  },
  {
   "cell_type": "markdown",
   "metadata": {},
   "source": [
    "## I. Pandas DataFrames are like spreadsheets."
   ]
  },
  {
   "cell_type": "code",
   "execution_count": 1,
   "metadata": {},
   "outputs": [],
   "source": [
    "import pandas as pd"
   ]
  },
  {
   "cell_type": "markdown",
   "metadata": {},
   "source": [
    "1. 最简单的使用DaraFrames的方式是将 dictionary通过`pd.DataFrame()`函数传入\n",
    "2. 字典里的每个key变成DataFrame里的列\n",
    "3. 字典里的value变成DataFrame里每一行的cells\n",
    "- 字典用花括号"
   ]
  },
  {
   "cell_type": "code",
   "execution_count": 2,
   "metadata": {
    "scrolled": true
   },
   "outputs": [
    {
     "data": {
      "text/html": [
       "<div>\n",
       "<style scoped>\n",
       "    .dataframe tbody tr th:only-of-type {\n",
       "        vertical-align: middle;\n",
       "    }\n",
       "\n",
       "    .dataframe tbody tr th {\n",
       "        vertical-align: top;\n",
       "    }\n",
       "\n",
       "    .dataframe thead th {\n",
       "        text-align: right;\n",
       "    }\n",
       "</style>\n",
       "<table border=\"1\" class=\"dataframe\">\n",
       "  <thead>\n",
       "    <tr style=\"text-align: right;\">\n",
       "      <th></th>\n",
       "      <th>column_1</th>\n",
       "      <th>column_2</th>\n",
       "    </tr>\n",
       "  </thead>\n",
       "  <tbody>\n",
       "    <tr>\n",
       "      <th>0</th>\n",
       "      <td>5</td>\n",
       "      <td>a</td>\n",
       "    </tr>\n",
       "    <tr>\n",
       "      <th>1</th>\n",
       "      <td>4</td>\n",
       "      <td>b</td>\n",
       "    </tr>\n",
       "    <tr>\n",
       "      <th>2</th>\n",
       "      <td>3</td>\n",
       "      <td>c</td>\n",
       "    </tr>\n",
       "  </tbody>\n",
       "</table>\n",
       "</div>"
      ],
      "text/plain": [
       "   column_1 column_2\n",
       "0         5        a\n",
       "1         4        b\n",
       "2         3        c"
      ]
     },
     "execution_count": 2,
     "metadata": {},
     "output_type": "execute_result"
    }
   ],
   "source": [
    "example_dataframe = pd.DataFrame({\n",
    "        'column_1' : [5, 4, 3],\n",
    "        'column_2' : ['a', 'b', 'c']\n",
    "    })\n",
    "\n",
    "example_dataframe"
   ]
  },
  {
   "cell_type": "markdown",
   "metadata": {},
   "source": [
    "- 另一个传入数据的方法是`pd.read_csv()`。类似可以直接读入的数据形式还有Excel, JSON, SQL."
   ]
  },
  {
   "cell_type": "code",
   "execution_count": 3,
   "metadata": {},
   "outputs": [
    {
     "name": "stdout",
     "output_type": "stream",
     "text": [
      "<class 'pandas.core.frame.DataFrame'>\n"
     ]
    }
   ],
   "source": [
    "# Read the iris dataset from a CSV file\n",
    "df = pd.read_csv('project_files/iris.csv')\n",
    "\n",
    "# Print data type for df\n",
    "print( type(df) )"
   ]
  },
  {
   "cell_type": "markdown",
   "metadata": {},
   "source": [
    "- 形状：\n",
    "    - `df.shape`可以显示形状，第一个数字是行数，第二个数字是列数。`df.shape[0]`显示行数，`df.shape[1]`显示列数\n",
    "    - `len()`可以显示行数"
   ]
  },
  {
   "cell_type": "markdown",
   "metadata": {},
   "source": [
    "#### 总结性数据\n",
    "- `df.min()` 显示每一列（每一个变量所有值）的最小值，`df.max()`显示最大值\n",
    "- `df.describe()` 显示均值，方差，最小值，25分位，50分位，75分位，最大值\n",
    "- 这里的`df`是上面定义的对象，对象类型是DataFrame。我的对象叫什么，就应该用什么."
   ]
  },
  {
   "cell_type": "markdown",
   "metadata": {},
   "source": [
    "## II. Pandas Series are like single columns."
   ]
  },
  {
   "cell_type": "markdown",
   "metadata": {},
   "source": [
    "#### Pandas序列像DataFrame的一列，像一维数组\n",
    "- 可以直接从list里创造序列\n",
    "- 最常用的是从DataFrame里选择出一列，两种方法：`df.petal_length` or `df['petal_length']`。 `'petal_length'`是列的名字。\n",
    "- 序列常用的函数跟DataFrame几乎一样：\n",
    "    - 显示前5个值：` df.petal_length.head()`\n",
    "    - 最小值和最大值`df.petal_length.min()`, `df.petal_length.max()`\n",
    "- 有时候需要知道 非数字的变量的值：`.unique()`。每一个unique的值被叫做一个class，分类就是classification\n",
    "- 和序列相关的计算，和1维的NumPy数组非常像：\n",
    "    - 例如： `df.petal_length.median()`和`np.median( df.petal_length )`等价\n",
    "    - 序列的计算是elementwise，元素对应元素的计算，等同于STATA的变量计算： `df['petal_area'] = df.petal_width * df.petal_length` 这样就生成了一个新的变量petal_area，每一行的值都是对应petal_width和petal_length每一行值的乘积"
   ]
  },
  {
   "cell_type": "code",
   "execution_count": 4,
   "metadata": {},
   "outputs": [
    {
     "name": "stdout",
     "output_type": "stream",
     "text": [
      "0    0\n",
      "1    1\n",
      "2    2\n",
      "3    3\n",
      "4    4\n",
      "dtype: int64\n",
      "<class 'pandas.core.series.Series'>\n"
     ]
    }
   ],
   "source": [
    "integer_series = pd.Series([0, 1, 2, 3, 4])\n",
    "\n",
    "print( integer_series ) # 这里为什么显示两列？不是很懂\n",
    "print( type(integer_series) )"
   ]
  },
  {
   "cell_type": "code",
   "execution_count": 5,
   "metadata": {},
   "outputs": [
    {
     "name": "stdout",
     "output_type": "stream",
     "text": [
      "<class 'pandas.core.series.Series'>\n",
      "<class 'pandas.core.series.Series'>\n",
      "True\n"
     ]
    }
   ],
   "source": [
    "# Way 1\n",
    "print( type(df.petal_length) )\n",
    "\n",
    "# Way 2\n",
    "print( type(df['petal_length']) )\n",
    "\n",
    "# Check that both ways are identical\n",
    "print( all(df.petal_length == df['petal_length']) ) "
   ]
  },
  {
   "cell_type": "markdown",
   "metadata": {},
   "source": [
    "## III. Boolean masks allow you to filter data."
   ]
  },
  {
   "cell_type": "markdown",
   "metadata": {},
   "source": [
    "#### Boolean masks是\"List-like\"的 真/假 值的序列\n",
    "- \"List-like\"序列包括：**list**, **NumPy arrays**, **Panda Series**\n",
    "- 例如：以下两个例子都是boolean masks:\n",
    "\n",
    "`list_mask = [True, True, False, True]`\n",
    "\n",
    "`series_mask = pd.Series([True, True, False, True])` 这是 Panda Seires，也是本项目大部分时候用的\n",
    "- 最常用的创造bollean masks的方法：对另一个Pandas序列应用条件判断：\n",
    "- 或者，可以使用`~`进行反向过滤："
   ]
  },
  {
   "cell_type": "code",
   "execution_count": 6,
   "metadata": {
    "scrolled": true
   },
   "outputs": [
    {
     "name": "stdout",
     "output_type": "stream",
     "text": [
      "0    10\n",
      "1     5\n",
      "2    -3\n",
      "3     2\n",
      "dtype: int64\n",
      "0     True\n",
      "1     True\n",
      "2    False\n",
      "3     True\n",
      "dtype: bool\n",
      "Keep only True values 0    10\n",
      "1     5\n",
      "3     2\n",
      "dtype: int64\n",
      "Keep only False values 2   -3\n",
      "dtype: int64\n"
     ]
    }
   ],
   "source": [
    "example_series = pd.Series([10, 5, -3, 2])\n",
    "\n",
    "print( example_series )\n",
    "\n",
    "# Create boolean mask from a condition\n",
    "series_mask = example_series > 0\n",
    "\n",
    "print( series_mask )\n",
    "\n",
    "# 以下code等价于只保留真值 Keep only True values from the boolean mask\n",
    "print( \"Keep only True values\", example_series[series_mask] )\n",
    "\n",
    "# 以下code等价于只保留假值 keeping only the False values from our boolean mask\n",
    "print( \"Keep only False values\", example_series[~series_mask] )"
   ]
  },
  {
   "cell_type": "markdown",
   "metadata": {},
   "source": [
    "#### 可以从DataFrame中过滤出特定行\n",
    "- 如果想显示所有 `petal_area > 14` 的观测值：\n",
    "    - 首先，创建一个boolean masks: `df.petal_area > 14`\n",
    "    - 然后，用masks去从DataFrame里筛选：`df[df.petal_area > 14]` 会显示出所有 petal_area > 14的obs\n",
    "    \n",
    "#### 可以创建indicator变量\n",
    "- 1 代表符合条件，0代表不符合条件\n",
    "- 可以用`astype(int)`将True/Flase转化为1/0\n",
    "- 可以用一行代码 为符合petal_area > 14条件的观测值 创造指示变量：`df['giant'] = (df.petal_area > 14).astype(int)`新变量giant取0和1"
   ]
  },
  {
   "cell_type": "markdown",
   "metadata": {},
   "source": [
    "#### 多个mask\n",
    "例子：如果只想看sepal_width > 3.2的versicolor花和 virginica flowers花：\n",
    "- 可以使用`isin()`来确定花的种类是不是我们需要的\n",
    "- 如果有多个筛选条件，最好用多个mask\n",
    "- 用`&`操作符来合并多个mask\n",
    "\n",
    "1. 筛选出花的种类： `species_mask = df.species.isin(['versicolor', 'virginica'])`\n",
    "2. 筛选出花萼的宽度：`sepal_width_mask = df.sepal_width > 3.2`\n",
    "3. 合并筛选条件：`df[species_mask & sepal_width_mask]`"
   ]
  },
  {
   "cell_type": "markdown",
   "metadata": {},
   "source": [
    "## IV. Groupbys allow you to segment and aggregate data."
   ]
  },
  {
   "cell_type": "markdown",
   "metadata": {},
   "source": [
    "#### .groupby() 让你可以横跨不同的class 切分和概括数据\n",
    "- 想知道3种不同花的各种特征的平均值：\n",
    "    - 首先按照species分类：`df.groupby('species')`\n",
    "    - 然后按照列（特征）取平均值：`df.groupby('species').mean()`\n",
    "    - 可以应用到别的概括数据的函数上: `df.groupby('species').median()`, `df.groupby('species').max()`, `df.groupby('species').std()`\n",
    "    - 还可以同时显示多个不同的数据：`df.groupby('species').agg(['min', 'median', 'max'])` 会显示min, median, max measurements for each species"
   ]
  },
  {
   "cell_type": "markdown",
   "metadata": {},
   "source": [
    "#### <span style=\"color:#555\">EXERCISES</span>\n",
    "\n",
    "Complete each of the following exercises.\n",
    "\n",
    "First, remember to import Pandas and read in the iris dataset."
   ]
  },
  {
   "cell_type": "code",
   "execution_count": 7,
   "metadata": {},
   "outputs": [],
   "source": [
    "import pandas as pd\n",
    "\n",
    "df = pd.read_csv('project_files/iris.csv')"
   ]
  },
  {
   "cell_type": "markdown",
   "metadata": {},
   "source": [
    "## <span style=\"color:RoyalBlue\">Exercise 5.1 - Flowers for Casey</span>\n",
    "\n",
    "In the previous lesson, we discovered that the first local business we need to visit in Park Royal is a local **flower shop.** When we arrive, we find out that the owner, Casey, urgently needs our help!\n",
    "\n",
    "They just received a new shipment of **iris flowers**, but they've never stocked these flowers before. Casey asks us to share what we know about these new flowers. Luckily, we have the *iris dataset* to learn more about them ourselves!\n",
    "\n",
    "In the previous lesson, we also introduced the idea of using a **toy problem** to reduce the size of a problem and break down the concepts. While 150 observations is not exactly \"big data,\" it's still too large to fit on our screen at once. So let's use another toy problem to practice the concepts in this lesson.\n",
    "\n",
    "#### A.) First, create a new DataFrame called <code style=\"color:steelblue\">toy_df</code>. It should contain the first 5 rows plus the last 5 rows from our original Iris dataset.\n",
    "* **Tip:** You already have a <code style=\"color:steelblue\">.head()</code>, but what about a <code style=\"color:steelblue\">.tail()</code>?\n",
    "* **Tip:** <code style=\"color:steelblue\">pd.concat()</code> is your [friend](http://pandas.pydata.org/pandas-docs/stable/generated/pandas.concat.html)."
   ]
  },
  {
   "cell_type": "code",
   "execution_count": 8,
   "metadata": {},
   "outputs": [
    {
     "name": "stdout",
     "output_type": "stream",
     "text": [
      "<class 'pandas.core.frame.DataFrame'>\n"
     ]
    }
   ],
   "source": [
    "# Create toy_df\n",
    "df = pd.read_csv('project_files/iris.csv')\n",
    "print( type(df) )\n",
    "\n",
    "toy_df = pd.concat([df.head(),df.tail()])\n"
   ]
  },
  {
   "cell_type": "markdown",
   "metadata": {},
   "source": [
    "#### B.) Next, display <code style=\"color:steelblue\">toy_df</code>.\n",
    "* After all, it will only be 10 rows.\n",
    "* In <code style=\"color:steelblue\">toy_df</code>, you should have data from 2 different species of flower. Which are they?"
   ]
  },
  {
   "cell_type": "code",
   "execution_count": 9,
   "metadata": {},
   "outputs": [
    {
     "name": "stdout",
     "output_type": "stream",
     "text": [
      "     sepal_length  sepal_width  petal_length  petal_width    species\n",
      "0             5.1          3.5           1.4          0.2     setosa\n",
      "1             4.9          3.0           1.4          0.2     setosa\n",
      "2             4.7          3.2           1.3          0.2     setosa\n",
      "3             4.6          3.1           1.5          0.2     setosa\n",
      "4             5.0          3.6           1.4          0.2     setosa\n",
      "145           6.7          3.0           5.2          2.3  virginica\n",
      "146           6.3          2.5           5.0          1.9  virginica\n",
      "147           6.5          3.0           5.2          2.0  virginica\n",
      "148           6.2          3.4           5.4          2.3  virginica\n",
      "149           5.9          3.0           5.1          1.8  virginica\n"
     ]
    }
   ],
   "source": [
    "# Display toy_df\n",
    "print( toy_df )\n",
    "\n",
    "# Ans: They are Setosa and Virginica"
   ]
  },
  {
   "cell_type": "markdown",
   "metadata": {},
   "source": [
    "<strong style=\"color:RoyalBlue\">Expected output:</strong>\n",
    "\n",
    "<table border=\"1\" class=\"dataframe\">\n",
    "  <thead>\n",
    "    <tr style=\"text-align: right\">\n",
    "      <th></th>\n",
    "      <th>sepal_length</th>\n",
    "      <th>sepal_width</th>\n",
    "      <th>petal_length</th>\n",
    "      <th>petal_width</th>\n",
    "      <th>species</th>\n",
    "    </tr>\n",
    "  </thead>\n",
    "  <tbody>\n",
    "    <tr>\n",
    "      <th>0</th>\n",
    "      <td>5.1</td>\n",
    "      <td>3.5</td>\n",
    "      <td>1.4</td>\n",
    "      <td>0.2</td>\n",
    "      <td>setosa</td>\n",
    "    </tr>\n",
    "    <tr>\n",
    "      <th>1</th>\n",
    "      <td>4.9</td>\n",
    "      <td>3.0</td>\n",
    "      <td>1.4</td>\n",
    "      <td>0.2</td>\n",
    "      <td>setosa</td>\n",
    "    </tr>\n",
    "    <tr>\n",
    "      <th>2</th>\n",
    "      <td>4.7</td>\n",
    "      <td>3.2</td>\n",
    "      <td>1.3</td>\n",
    "      <td>0.2</td>\n",
    "      <td>setosa</td>\n",
    "    </tr>\n",
    "    <tr>\n",
    "      <th>3</th>\n",
    "      <td>4.6</td>\n",
    "      <td>3.1</td>\n",
    "      <td>1.5</td>\n",
    "      <td>0.2</td>\n",
    "      <td>setosa</td>\n",
    "    </tr>\n",
    "    <tr>\n",
    "      <th>4</th>\n",
    "      <td>5.0</td>\n",
    "      <td>3.6</td>\n",
    "      <td>1.4</td>\n",
    "      <td>0.2</td>\n",
    "      <td>setosa</td>\n",
    "    </tr>\n",
    "    <tr>\n",
    "      <th>145</th>\n",
    "      <td>6.7</td>\n",
    "      <td>3.0</td>\n",
    "      <td>5.2</td>\n",
    "      <td>2.3</td>\n",
    "      <td>virginica</td>\n",
    "    </tr>\n",
    "    <tr>\n",
    "      <th>146</th>\n",
    "      <td>6.3</td>\n",
    "      <td>2.5</td>\n",
    "      <td>5.0</td>\n",
    "      <td>1.9</td>\n",
    "      <td>virginica</td>\n",
    "    </tr>\n",
    "    <tr>\n",
    "      <th>147</th>\n",
    "      <td>6.5</td>\n",
    "      <td>3.0</td>\n",
    "      <td>5.2</td>\n",
    "      <td>2.0</td>\n",
    "      <td>virginica</td>\n",
    "    </tr>\n",
    "    <tr>\n",
    "      <th>148</th>\n",
    "      <td>6.2</td>\n",
    "      <td>3.4</td>\n",
    "      <td>5.4</td>\n",
    "      <td>2.3</td>\n",
    "      <td>virginica</td>\n",
    "    </tr>\n",
    "    <tr>\n",
    "      <th>149</th>\n",
    "      <td>5.9</td>\n",
    "      <td>3.0</td>\n",
    "      <td>5.1</td>\n",
    "      <td>1.8</td>\n",
    "      <td>virginica</td>\n",
    "    </tr>\n",
    "  </tbody>\n",
    "</table>"
   ]
  },
  {
   "cell_type": "markdown",
   "metadata": {},
   "source": [
    "#### C.) Next, display a summary table for <code style=\"color:steelblue\">toy_df</code>.\n",
    "* It should have the mean, standard deviation, and quartiles for each of the columns.\n",
    "* Since <code style=\"color:steelblue\">toy_df</code> is only 10 rows, you can manually check the **mins** and **maxes**. Are they correct?"
   ]
  },
  {
   "cell_type": "code",
   "execution_count": 10,
   "metadata": {},
   "outputs": [
    {
     "data": {
      "text/html": [
       "<div>\n",
       "<style scoped>\n",
       "    .dataframe tbody tr th:only-of-type {\n",
       "        vertical-align: middle;\n",
       "    }\n",
       "\n",
       "    .dataframe tbody tr th {\n",
       "        vertical-align: top;\n",
       "    }\n",
       "\n",
       "    .dataframe thead th {\n",
       "        text-align: right;\n",
       "    }\n",
       "</style>\n",
       "<table border=\"1\" class=\"dataframe\">\n",
       "  <thead>\n",
       "    <tr style=\"text-align: right;\">\n",
       "      <th></th>\n",
       "      <th>sepal_length</th>\n",
       "      <th>sepal_width</th>\n",
       "      <th>petal_length</th>\n",
       "      <th>petal_width</th>\n",
       "    </tr>\n",
       "  </thead>\n",
       "  <tbody>\n",
       "    <tr>\n",
       "      <th>count</th>\n",
       "      <td>10.000000</td>\n",
       "      <td>10.000000</td>\n",
       "      <td>10.000000</td>\n",
       "      <td>10.000000</td>\n",
       "    </tr>\n",
       "    <tr>\n",
       "      <th>mean</th>\n",
       "      <td>5.590000</td>\n",
       "      <td>3.130000</td>\n",
       "      <td>3.290000</td>\n",
       "      <td>1.130000</td>\n",
       "    </tr>\n",
       "    <tr>\n",
       "      <th>std</th>\n",
       "      <td>0.807534</td>\n",
       "      <td>0.316403</td>\n",
       "      <td>1.995244</td>\n",
       "      <td>0.992248</td>\n",
       "    </tr>\n",
       "    <tr>\n",
       "      <th>min</th>\n",
       "      <td>4.600000</td>\n",
       "      <td>2.500000</td>\n",
       "      <td>1.300000</td>\n",
       "      <td>0.200000</td>\n",
       "    </tr>\n",
       "    <tr>\n",
       "      <th>25%</th>\n",
       "      <td>4.925000</td>\n",
       "      <td>3.000000</td>\n",
       "      <td>1.400000</td>\n",
       "      <td>0.200000</td>\n",
       "    </tr>\n",
       "    <tr>\n",
       "      <th>50%</th>\n",
       "      <td>5.500000</td>\n",
       "      <td>3.050000</td>\n",
       "      <td>3.250000</td>\n",
       "      <td>1.000000</td>\n",
       "    </tr>\n",
       "    <tr>\n",
       "      <th>75%</th>\n",
       "      <td>6.275000</td>\n",
       "      <td>3.350000</td>\n",
       "      <td>5.175000</td>\n",
       "      <td>1.975000</td>\n",
       "    </tr>\n",
       "    <tr>\n",
       "      <th>max</th>\n",
       "      <td>6.700000</td>\n",
       "      <td>3.600000</td>\n",
       "      <td>5.400000</td>\n",
       "      <td>2.300000</td>\n",
       "    </tr>\n",
       "  </tbody>\n",
       "</table>\n",
       "</div>"
      ],
      "text/plain": [
       "       sepal_length  sepal_width  petal_length  petal_width\n",
       "count     10.000000    10.000000     10.000000    10.000000\n",
       "mean       5.590000     3.130000      3.290000     1.130000\n",
       "std        0.807534     0.316403      1.995244     0.992248\n",
       "min        4.600000     2.500000      1.300000     0.200000\n",
       "25%        4.925000     3.000000      1.400000     0.200000\n",
       "50%        5.500000     3.050000      3.250000     1.000000\n",
       "75%        6.275000     3.350000      5.175000     1.975000\n",
       "max        6.700000     3.600000      5.400000     2.300000"
      ]
     },
     "execution_count": 10,
     "metadata": {},
     "output_type": "execute_result"
    }
   ],
   "source": [
    "# Describe toy_df\n",
    "toy_df.describe()"
   ]
  },
  {
   "cell_type": "markdown",
   "metadata": {},
   "source": [
    "<strong style=\"color:RoyalBlue\">Expected output:</strong>\n",
    "<table border=\"1\" class=\"dataframe\">\n",
    "  <thead>\n",
    "    <tr style=\"text-align: right\">\n",
    "      <th></th>\n",
    "      <th>sepal_length</th>\n",
    "      <th>sepal_width</th>\n",
    "      <th>petal_length</th>\n",
    "      <th>petal_width</th>\n",
    "    </tr>\n",
    "  </thead>\n",
    "  <tbody>\n",
    "    <tr>\n",
    "      <th>count</th>\n",
    "      <td>10.000000</td>\n",
    "      <td>10.000000</td>\n",
    "      <td>10.000000</td>\n",
    "      <td>10.000000</td>\n",
    "    </tr>\n",
    "    <tr>\n",
    "      <th>mean</th>\n",
    "      <td>5.590000</td>\n",
    "      <td>3.130000</td>\n",
    "      <td>3.290000</td>\n",
    "      <td>1.130000</td>\n",
    "    </tr>\n",
    "    <tr>\n",
    "      <th>std</th>\n",
    "      <td>0.807534</td>\n",
    "      <td>0.316403</td>\n",
    "      <td>1.995244</td>\n",
    "      <td>0.992248</td>\n",
    "    </tr>\n",
    "    <tr>\n",
    "      <th>min</th>\n",
    "      <td>4.600000</td>\n",
    "      <td>2.500000</td>\n",
    "      <td>1.300000</td>\n",
    "      <td>0.200000</td>\n",
    "    </tr>\n",
    "    <tr>\n",
    "      <th>25%</th>\n",
    "      <td>4.925000</td>\n",
    "      <td>3.000000</td>\n",
    "      <td>1.400000</td>\n",
    "      <td>0.200000</td>\n",
    "    </tr>\n",
    "    <tr>\n",
    "      <th>50%</th>\n",
    "      <td>5.500000</td>\n",
    "      <td>3.050000</td>\n",
    "      <td>3.250000</td>\n",
    "      <td>1.000000</td>\n",
    "    </tr>\n",
    "    <tr>\n",
    "      <th>75%</th>\n",
    "      <td>6.275000</td>\n",
    "      <td>3.350000</td>\n",
    "      <td>5.175000</td>\n",
    "      <td>1.975000</td>\n",
    "    </tr>\n",
    "    <tr>\n",
    "      <th>max</th>\n",
    "      <td>6.700000</td>\n",
    "      <td>3.600000</td>\n",
    "      <td>5.400000</td>\n",
    "      <td>2.300000</td>\n",
    "    </tr>\n",
    "  </tbody>\n",
    "</table>"
   ]
  },
  {
   "cell_type": "markdown",
   "metadata": {},
   "source": [
    "## <span style=\"color:RoyalBlue\">Exercise 5.2 - Basic Feature Engineering</span>\n",
    "\n",
    "Elementwise operations are very useful in machine learning, especially for **feature engineering.** Feature engineering is the process of creating new features (model input variables) from existing ones, and its one of the best ways for data scientists to add value.\n",
    "\n",
    "In the Iris dataset, we have petal width and length, but what if we wanted to know petal area? Well, we can create a new <code style=\"color:steelblue\">petal_area</code> feature (yes, the petals are not perfect rectangles, but that's fine).\n",
    "\n",
    "#### A.) First, display the two columns of <code style=\"color:steelblue\">petal_width</code> and <code style=\"color:steelblue\">petal_length</code> in <code style=\"color:steelblue\">toy_df</code>.\n",
    "* **Tip:** You can index a DataFrame using a list of column names too, like so:\n",
    "\n",
    "\n",
    "<pre style=\"color:steelblue\">df[['column_1', 'column_2']]</pre>"
   ]
  },
  {
   "cell_type": "code",
   "execution_count": 11,
   "metadata": {},
   "outputs": [
    {
     "data": {
      "text/html": [
       "<div>\n",
       "<style scoped>\n",
       "    .dataframe tbody tr th:only-of-type {\n",
       "        vertical-align: middle;\n",
       "    }\n",
       "\n",
       "    .dataframe tbody tr th {\n",
       "        vertical-align: top;\n",
       "    }\n",
       "\n",
       "    .dataframe thead th {\n",
       "        text-align: right;\n",
       "    }\n",
       "</style>\n",
       "<table border=\"1\" class=\"dataframe\">\n",
       "  <thead>\n",
       "    <tr style=\"text-align: right;\">\n",
       "      <th></th>\n",
       "      <th>petal_width</th>\n",
       "      <th>petal_length</th>\n",
       "    </tr>\n",
       "  </thead>\n",
       "  <tbody>\n",
       "    <tr>\n",
       "      <th>0</th>\n",
       "      <td>0.2</td>\n",
       "      <td>1.4</td>\n",
       "    </tr>\n",
       "    <tr>\n",
       "      <th>1</th>\n",
       "      <td>0.2</td>\n",
       "      <td>1.4</td>\n",
       "    </tr>\n",
       "    <tr>\n",
       "      <th>2</th>\n",
       "      <td>0.2</td>\n",
       "      <td>1.3</td>\n",
       "    </tr>\n",
       "    <tr>\n",
       "      <th>3</th>\n",
       "      <td>0.2</td>\n",
       "      <td>1.5</td>\n",
       "    </tr>\n",
       "    <tr>\n",
       "      <th>4</th>\n",
       "      <td>0.2</td>\n",
       "      <td>1.4</td>\n",
       "    </tr>\n",
       "    <tr>\n",
       "      <th>145</th>\n",
       "      <td>2.3</td>\n",
       "      <td>5.2</td>\n",
       "    </tr>\n",
       "    <tr>\n",
       "      <th>146</th>\n",
       "      <td>1.9</td>\n",
       "      <td>5.0</td>\n",
       "    </tr>\n",
       "    <tr>\n",
       "      <th>147</th>\n",
       "      <td>2.0</td>\n",
       "      <td>5.2</td>\n",
       "    </tr>\n",
       "    <tr>\n",
       "      <th>148</th>\n",
       "      <td>2.3</td>\n",
       "      <td>5.4</td>\n",
       "    </tr>\n",
       "    <tr>\n",
       "      <th>149</th>\n",
       "      <td>1.8</td>\n",
       "      <td>5.1</td>\n",
       "    </tr>\n",
       "  </tbody>\n",
       "</table>\n",
       "</div>"
      ],
      "text/plain": [
       "     petal_width  petal_length\n",
       "0            0.2           1.4\n",
       "1            0.2           1.4\n",
       "2            0.2           1.3\n",
       "3            0.2           1.5\n",
       "4            0.2           1.4\n",
       "145          2.3           5.2\n",
       "146          1.9           5.0\n",
       "147          2.0           5.2\n",
       "148          2.3           5.4\n",
       "149          1.8           5.1"
      ]
     },
     "execution_count": 11,
     "metadata": {},
     "output_type": "execute_result"
    }
   ],
   "source": [
    "# Display petal_width and petal_length\n",
    "toy_df[['petal_width', 'petal_length' ]]\n",
    "\n",
    "# 为什么有两个括号，不是很理解。"
   ]
  },
  {
   "cell_type": "markdown",
   "metadata": {},
   "source": [
    "<strong style=\"color:RoyalBlue\">Expected output:</strong>\n",
    "<table border=\"1\" class=\"dataframe\">\n",
    "  <thead>\n",
    "    <tr style=\"text-align: right\">\n",
    "      <th></th>\n",
    "      <th>petal_width</th>\n",
    "      <th>petal_length</th>\n",
    "    </tr>\n",
    "  </thead>\n",
    "  <tbody>\n",
    "    <tr>\n",
    "      <th>0</th>\n",
    "      <td>0.2</td>\n",
    "      <td>1.4</td>\n",
    "    </tr>\n",
    "    <tr>\n",
    "      <th>1</th>\n",
    "      <td>0.2</td>\n",
    "      <td>1.4</td>\n",
    "    </tr>\n",
    "    <tr>\n",
    "      <th>2</th>\n",
    "      <td>0.2</td>\n",
    "      <td>1.3</td>\n",
    "    </tr>\n",
    "    <tr>\n",
    "      <th>3</th>\n",
    "      <td>0.2</td>\n",
    "      <td>1.5</td>\n",
    "    </tr>\n",
    "    <tr>\n",
    "      <th>4</th>\n",
    "      <td>0.2</td>\n",
    "      <td>1.4</td>\n",
    "    </tr>\n",
    "    <tr>\n",
    "      <th>145</th>\n",
    "      <td>2.3</td>\n",
    "      <td>5.2</td>\n",
    "    </tr>\n",
    "    <tr>\n",
    "      <th>146</th>\n",
    "      <td>1.9</td>\n",
    "      <td>5.0</td>\n",
    "    </tr>\n",
    "    <tr>\n",
    "      <th>147</th>\n",
    "      <td>2.0</td>\n",
    "      <td>5.2</td>\n",
    "    </tr>\n",
    "    <tr>\n",
    "      <th>148</th>\n",
    "      <td>2.3</td>\n",
    "      <td>5.4</td>\n",
    "    </tr>\n",
    "    <tr>\n",
    "      <th>149</th>\n",
    "      <td>1.8</td>\n",
    "      <td>5.1</td>\n",
    "    </tr>\n",
    "  </tbody>\n",
    "</table>"
   ]
  },
  {
   "cell_type": "markdown",
   "metadata": {},
   "source": [
    "#### B.) Next, create a new <code style=\"color:steelblue\">petal_area</code> feature in <code style=\"color:steelblue\">toy_df</code>.\n",
    "* Multiply the <code style=\"color:steelblue\">petal_width</code> column by the <code style=\"color:steelblue\">petal_length</code> column.\n",
    "* Display <code style=\"color:steelblue\">toy_df</code> after creating the new feature.\n",
    "* Are the values for <code style=\"color:steelblue\">petal_area</code> correct? Manually spot check a few of them just to make sure."
   ]
  },
  {
   "cell_type": "code",
   "execution_count": 12,
   "metadata": {},
   "outputs": [
    {
     "name": "stdout",
     "output_type": "stream",
     "text": [
      "     sepal_length  sepal_width  petal_length  petal_width    species  \\\n",
      "0             5.1          3.5           1.4          0.2     setosa   \n",
      "1             4.9          3.0           1.4          0.2     setosa   \n",
      "2             4.7          3.2           1.3          0.2     setosa   \n",
      "3             4.6          3.1           1.5          0.2     setosa   \n",
      "4             5.0          3.6           1.4          0.2     setosa   \n",
      "145           6.7          3.0           5.2          2.3  virginica   \n",
      "146           6.3          2.5           5.0          1.9  virginica   \n",
      "147           6.5          3.0           5.2          2.0  virginica   \n",
      "148           6.2          3.4           5.4          2.3  virginica   \n",
      "149           5.9          3.0           5.1          1.8  virginica   \n",
      "\n",
      "     petal_area  \n",
      "0          0.28  \n",
      "1          0.28  \n",
      "2          0.26  \n",
      "3          0.30  \n",
      "4          0.28  \n",
      "145       11.96  \n",
      "146        9.50  \n",
      "147       10.40  \n",
      "148       12.42  \n",
      "149        9.18  \n"
     ]
    }
   ],
   "source": [
    "# Method 1: \n",
    "# Create a new petal_area column\n",
    "petal_area =  toy_df['petal_width'] * df['petal_length']\n",
    "\n",
    "# Display toy_df\n",
    "toy_df['petal_area'] = petal_area\n",
    "# print(toy_df)\n",
    "\n",
    "\n",
    "# Method 2: use DataFrame.assign()\n",
    "toy_df.assign(petal_area = toy_df['petal_width'] * toy_df['petal_length'])\n",
    "\n",
    "\n",
    "# Method 3: 等价于方法1\n",
    "toy_df['petal_area'] = toy_df.petal_width * toy_df.petal_length\n",
    "print(toy_df)"
   ]
  },
  {
   "cell_type": "markdown",
   "metadata": {},
   "source": [
    "<strong style=\"color:RoyalBlue\">Expected output:</strong>\n",
    "<table border=\"1\" class=\"dataframe\">\n",
    "  <thead>\n",
    "    <tr style=\"text-align: right\">\n",
    "      <th></th>\n",
    "      <th>sepal_length</th>\n",
    "      <th>sepal_width</th>\n",
    "      <th>petal_length</th>\n",
    "      <th>petal_width</th>\n",
    "      <th>species</th>\n",
    "      <th>petal_area</th>\n",
    "    </tr>\n",
    "  </thead>\n",
    "  <tbody>\n",
    "    <tr>\n",
    "      <th>0</th>\n",
    "      <td>5.1</td>\n",
    "      <td>3.5</td>\n",
    "      <td>1.4</td>\n",
    "      <td>0.2</td>\n",
    "      <td>setosa</td>\n",
    "      <td>0.28</td>\n",
    "    </tr>\n",
    "    <tr>\n",
    "      <th>1</th>\n",
    "      <td>4.9</td>\n",
    "      <td>3.0</td>\n",
    "      <td>1.4</td>\n",
    "      <td>0.2</td>\n",
    "      <td>setosa</td>\n",
    "      <td>0.28</td>\n",
    "    </tr>\n",
    "    <tr>\n",
    "      <th>2</th>\n",
    "      <td>4.7</td>\n",
    "      <td>3.2</td>\n",
    "      <td>1.3</td>\n",
    "      <td>0.2</td>\n",
    "      <td>setosa</td>\n",
    "      <td>0.26</td>\n",
    "    </tr>\n",
    "    <tr>\n",
    "      <th>3</th>\n",
    "      <td>4.6</td>\n",
    "      <td>3.1</td>\n",
    "      <td>1.5</td>\n",
    "      <td>0.2</td>\n",
    "      <td>setosa</td>\n",
    "      <td>0.30</td>\n",
    "    </tr>\n",
    "    <tr>\n",
    "      <th>4</th>\n",
    "      <td>5.0</td>\n",
    "      <td>3.6</td>\n",
    "      <td>1.4</td>\n",
    "      <td>0.2</td>\n",
    "      <td>setosa</td>\n",
    "      <td>0.28</td>\n",
    "    </tr>\n",
    "    <tr>\n",
    "      <th>145</th>\n",
    "      <td>6.7</td>\n",
    "      <td>3.0</td>\n",
    "      <td>5.2</td>\n",
    "      <td>2.3</td>\n",
    "      <td>virginica</td>\n",
    "      <td>11.96</td>\n",
    "    </tr>\n",
    "    <tr>\n",
    "      <th>146</th>\n",
    "      <td>6.3</td>\n",
    "      <td>2.5</td>\n",
    "      <td>5.0</td>\n",
    "      <td>1.9</td>\n",
    "      <td>virginica</td>\n",
    "      <td>9.50</td>\n",
    "    </tr>\n",
    "    <tr>\n",
    "      <th>147</th>\n",
    "      <td>6.5</td>\n",
    "      <td>3.0</td>\n",
    "      <td>5.2</td>\n",
    "      <td>2.0</td>\n",
    "      <td>virginica</td>\n",
    "      <td>10.40</td>\n",
    "    </tr>\n",
    "    <tr>\n",
    "      <th>148</th>\n",
    "      <td>6.2</td>\n",
    "      <td>3.4</td>\n",
    "      <td>5.4</td>\n",
    "      <td>2.3</td>\n",
    "      <td>virginica</td>\n",
    "      <td>12.42</td>\n",
    "    </tr>\n",
    "    <tr>\n",
    "      <th>149</th>\n",
    "      <td>5.9</td>\n",
    "      <td>3.0</td>\n",
    "      <td>5.1</td>\n",
    "      <td>1.8</td>\n",
    "      <td>virginica</td>\n",
    "      <td>9.18</td>\n",
    "    </tr>\n",
    "  </tbody>\n",
    "</table>"
   ]
  },
  {
   "cell_type": "markdown",
   "metadata": {},
   "source": [
    "### C.) Finally, what do we now know about Iris flowers?\n",
    "\n",
    "By creating a <code style=\"color:steelblue\">petal_area</code> feature, it's now much easier to see that virginica flowers have significantly larger petals than setosa flowers do! Often, by creating new features, you can learn more about the data (and improve your machine learning models). As you might guess, a machine learning algorithm and take these features and tease out the underlying patterns in a much more precise and comprehensive way."
   ]
  },
  {
   "cell_type": "markdown",
   "metadata": {},
   "source": [
    "## <span style=\"color:RoyalBlue\">Exercise 5.3 - Mask On Mask Off</span>\n",
    "\n",
    "Now, let's use the <code style=\"color:steelblue\">toy_df</code> to really drive home the concept of **boolean masks**, because we'll be using these very frequently in data science.\n",
    "\n",
    "For example, assume we wanted to display observations where <code style=\"color:steelblue\">petal_area > 10</code> and <code style=\"color:steelblue\">sepal_width > 3</code>. How could we do so?\n",
    "\n",
    "#### A.) First, display <code style=\"color:steelblue\">toy_df</code> again just to have it in front of you."
   ]
  },
  {
   "cell_type": "code",
   "execution_count": 13,
   "metadata": {},
   "outputs": [
    {
     "name": "stdout",
     "output_type": "stream",
     "text": [
      "     sepal_length  sepal_width  petal_length  petal_width    species  \\\n",
      "0             5.1          3.5           1.4          0.2     setosa   \n",
      "1             4.9          3.0           1.4          0.2     setosa   \n",
      "2             4.7          3.2           1.3          0.2     setosa   \n",
      "3             4.6          3.1           1.5          0.2     setosa   \n",
      "4             5.0          3.6           1.4          0.2     setosa   \n",
      "145           6.7          3.0           5.2          2.3  virginica   \n",
      "146           6.3          2.5           5.0          1.9  virginica   \n",
      "147           6.5          3.0           5.2          2.0  virginica   \n",
      "148           6.2          3.4           5.4          2.3  virginica   \n",
      "149           5.9          3.0           5.1          1.8  virginica   \n",
      "\n",
      "     petal_area  \n",
      "0          0.28  \n",
      "1          0.28  \n",
      "2          0.26  \n",
      "3          0.30  \n",
      "4          0.28  \n",
      "145       11.96  \n",
      "146        9.50  \n",
      "147       10.40  \n",
      "148       12.42  \n",
      "149        9.18  \n"
     ]
    }
   ],
   "source": [
    "# Display toy_df\n",
    "print(toy_df)"
   ]
  },
  {
   "cell_type": "markdown",
   "metadata": {},
   "source": [
    "#### B.) Take a look at the DataFrame and manually count the number that satisfy our conditions.\n",
    "* How many observations have <code style=\"color:steelblue\">petal_area > 10</code>?\n",
    "* How many observations have <code style=\"color:steelblue\">sepal_width > 3</code>?\n",
    "* How many satisfy both conditions?"
   ]
  },
  {
   "cell_type": "markdown",
   "metadata": {},
   "source": [
    "*In the toy_df, there are:*\n",
    "* **3** observations with <code style=\"color:steelblue\">petal_area > 10</code> (indices 145, 147, 148)\n",
    "* **5** observations with <code style=\"color:steelblue\">sepal_width > 3</code> (indices 0,2,3,4,148)\n",
    "* **1** observation that satifies both conditions (index 148)"
   ]
  },
  {
   "cell_type": "markdown",
   "metadata": {},
   "source": [
    "Great. Now we'll see what's going on under the hood when we use our boolean masks.\n",
    "\n",
    "#### C.) Create a boolean mask for <code style=\"color:steelblue\">petal_area > 10</code>.\n",
    "* Name it <code style=\"color:steelblue\">petal_area_mask</code>.\n",
    "* Display the mask after you create it.\n",
    "* Does the result make sense?"
   ]
  },
  {
   "cell_type": "code",
   "execution_count": 14,
   "metadata": {},
   "outputs": [
    {
     "name": "stdout",
     "output_type": "stream",
     "text": [
      "0      False\n",
      "1      False\n",
      "2      False\n",
      "3      False\n",
      "4      False\n",
      "145     True\n",
      "146    False\n",
      "147     True\n",
      "148     True\n",
      "149    False\n",
      "Name: petal_area, dtype: bool\n"
     ]
    }
   ],
   "source": [
    "# Mask for petal_area > 10\n",
    "petal_area_mask = toy_df.petal_area > 10\n",
    "\n",
    "# Display petal_area_mask\n",
    "print(petal_area_mask)"
   ]
  },
  {
   "cell_type": "markdown",
   "metadata": {},
   "source": [
    "<strong style=\"color:RoyalBlue\">Expected output:</strong>\n",
    "<pre>\n",
    "0      False\n",
    "1      False\n",
    "2      False\n",
    "3      False\n",
    "4      False\n",
    "145     True\n",
    "146    False\n",
    "147     True\n",
    "148     True\n",
    "149    False\n",
    "Name: petal_area, dtype: bool\n",
    "</pre>"
   ]
  },
  {
   "cell_type": "markdown",
   "metadata": {},
   "source": [
    "#### D.) Next, create a boolean mask for <code style=\"color:steelblue\">sepal_width > 3</code>.\n",
    "* Name it <code style=\"color:steelblue\">sepal_width_mask</code>.\n",
    "* Display the mask after you create it.\n",
    "* Does the result make sense?"
   ]
  },
  {
   "cell_type": "code",
   "execution_count": 15,
   "metadata": {},
   "outputs": [
    {
     "name": "stdout",
     "output_type": "stream",
     "text": [
      "0       True\n",
      "1      False\n",
      "2       True\n",
      "3       True\n",
      "4       True\n",
      "145    False\n",
      "146    False\n",
      "147    False\n",
      "148     True\n",
      "149    False\n",
      "Name: sepal_width, dtype: bool\n"
     ]
    }
   ],
   "source": [
    "# Mask for sepal_width > 3\n",
    "sepan_width_mask = toy_df.sepal_width > 3\n",
    "\n",
    "# Display sepal_width_mask\n",
    "print(sepan_width_mask)"
   ]
  },
  {
   "cell_type": "markdown",
   "metadata": {},
   "source": [
    "<strong style=\"color:RoyalBlue\">Expected output:</strong>\n",
    "<pre>\n",
    "0       True\n",
    "1      False\n",
    "2       True\n",
    "3       True\n",
    "4       True\n",
    "145    False\n",
    "146    False\n",
    "147    False\n",
    "148     True\n",
    "149    False\n",
    "Name: sepal_width, dtype: bool\n",
    "</pre>"
   ]
  },
  {
   "cell_type": "markdown",
   "metadata": {},
   "source": [
    "#### E.) Next, display the two masks combined using the <code style=\"color:steelblue\">&</code> operator.\n",
    "* Note how their combination results in another boolean mask!"
   ]
  },
  {
   "cell_type": "code",
   "execution_count": 16,
   "metadata": {},
   "outputs": [
    {
     "data": {
      "text/plain": [
       "0      False\n",
       "1      False\n",
       "2      False\n",
       "3      False\n",
       "4      False\n",
       "145    False\n",
       "146    False\n",
       "147    False\n",
       "148     True\n",
       "149    False\n",
       "dtype: bool"
      ]
     },
     "execution_count": 16,
     "metadata": {},
     "output_type": "execute_result"
    }
   ],
   "source": [
    "# Display both masks, combined\n",
    "petal_area_mask & sepan_width_mask"
   ]
  },
  {
   "cell_type": "markdown",
   "metadata": {},
   "source": [
    "<strong style=\"color:RoyalBlue\">Expected output:</strong>\n",
    "<pre>\n",
    "0      False\n",
    "1      False\n",
    "2      False\n",
    "3      False\n",
    "4      False\n",
    "145    False\n",
    "146    False\n",
    "147    False\n",
    "148     True\n",
    "149    False\n",
    "dtype: bool\n",
    "</pre>"
   ]
  },
  {
   "cell_type": "markdown",
   "metadata": {},
   "source": [
    "#### F.) Finally, select the observation(s) from <code style=\"color:steelblue\">toy_df</code> where both conditions are met.\n",
    "* Do you get the result you expected based on (B)?"
   ]
  },
  {
   "cell_type": "code",
   "execution_count": 17,
   "metadata": {},
   "outputs": [
    {
     "data": {
      "text/html": [
       "<div>\n",
       "<style scoped>\n",
       "    .dataframe tbody tr th:only-of-type {\n",
       "        vertical-align: middle;\n",
       "    }\n",
       "\n",
       "    .dataframe tbody tr th {\n",
       "        vertical-align: top;\n",
       "    }\n",
       "\n",
       "    .dataframe thead th {\n",
       "        text-align: right;\n",
       "    }\n",
       "</style>\n",
       "<table border=\"1\" class=\"dataframe\">\n",
       "  <thead>\n",
       "    <tr style=\"text-align: right;\">\n",
       "      <th></th>\n",
       "      <th>sepal_length</th>\n",
       "      <th>sepal_width</th>\n",
       "      <th>petal_length</th>\n",
       "      <th>petal_width</th>\n",
       "      <th>species</th>\n",
       "      <th>petal_area</th>\n",
       "    </tr>\n",
       "  </thead>\n",
       "  <tbody>\n",
       "    <tr>\n",
       "      <th>148</th>\n",
       "      <td>6.2</td>\n",
       "      <td>3.4</td>\n",
       "      <td>5.4</td>\n",
       "      <td>2.3</td>\n",
       "      <td>virginica</td>\n",
       "      <td>12.42</td>\n",
       "    </tr>\n",
       "  </tbody>\n",
       "</table>\n",
       "</div>"
      ],
      "text/plain": [
       "     sepal_length  sepal_width  petal_length  petal_width    species  \\\n",
       "148           6.2          3.4           5.4          2.3  virginica   \n",
       "\n",
       "     petal_area  \n",
       "148       12.42  "
      ]
     },
     "execution_count": 17,
     "metadata": {},
     "output_type": "execute_result"
    }
   ],
   "source": [
    "# Index with both masks\n",
    "toy_df[petal_area_mask & sepan_width_mask]"
   ]
  },
  {
   "cell_type": "markdown",
   "metadata": {},
   "source": [
    "## <span style=\"color:RoyalBlue\">Exercise 5.4 - Iris Insights</span>\n",
    "\n",
    "With the help of **groupbys**, we're almost ready to return to Casey and share what we've learned about Iris flowers. But before we do, let's just bring back our <code style=\"color:steelblue\">toy_df</code> for one last hoorah, just to make sure we know what's going on under the hood.\n",
    "\n",
    "Let's calculate the median <code style=\"color:steelblue\">petal_area</code> for each species. Since <code style=\"color:steelblue\">toy_df</code> is small, we can do this manually as well and check to make sure the values are correct.\n",
    "\n",
    "\n",
    "#### A.) First, let's manually calculate the median <code style=\"color:steelblue\">petal_area</code> for the virginica flowers in our <code style=\"steelblue\">toy_df</code>.\n",
    "* Display all observations of the virginica species.\n",
    "* Sort them by <code style=\"color:steelblue\">petal_area</code> in ascending order.\n",
    "* **Tip:** Check out the <code style=\"color:steelblue\">.sort_values()</code> function ([documentation](http://pandas.pydata.org/pandas-docs/stable/generated/pandas.DataFrame.sort_values.html))."
   ]
  },
  {
   "cell_type": "code",
   "execution_count": 31,
   "metadata": {},
   "outputs": [
    {
     "data": {
      "text/html": [
       "<div>\n",
       "<style scoped>\n",
       "    .dataframe tbody tr th:only-of-type {\n",
       "        vertical-align: middle;\n",
       "    }\n",
       "\n",
       "    .dataframe tbody tr th {\n",
       "        vertical-align: top;\n",
       "    }\n",
       "\n",
       "    .dataframe thead th {\n",
       "        text-align: right;\n",
       "    }\n",
       "</style>\n",
       "<table border=\"1\" class=\"dataframe\">\n",
       "  <thead>\n",
       "    <tr style=\"text-align: right;\">\n",
       "      <th></th>\n",
       "      <th>sepal_length</th>\n",
       "      <th>sepal_width</th>\n",
       "      <th>petal_length</th>\n",
       "      <th>petal_width</th>\n",
       "      <th>species</th>\n",
       "      <th>petal_area</th>\n",
       "    </tr>\n",
       "  </thead>\n",
       "  <tbody>\n",
       "    <tr>\n",
       "      <th>149</th>\n",
       "      <td>5.9</td>\n",
       "      <td>3.0</td>\n",
       "      <td>5.1</td>\n",
       "      <td>1.8</td>\n",
       "      <td>virginica</td>\n",
       "      <td>9.18</td>\n",
       "    </tr>\n",
       "    <tr>\n",
       "      <th>146</th>\n",
       "      <td>6.3</td>\n",
       "      <td>2.5</td>\n",
       "      <td>5.0</td>\n",
       "      <td>1.9</td>\n",
       "      <td>virginica</td>\n",
       "      <td>9.50</td>\n",
       "    </tr>\n",
       "    <tr>\n",
       "      <th>147</th>\n",
       "      <td>6.5</td>\n",
       "      <td>3.0</td>\n",
       "      <td>5.2</td>\n",
       "      <td>2.0</td>\n",
       "      <td>virginica</td>\n",
       "      <td>10.40</td>\n",
       "    </tr>\n",
       "    <tr>\n",
       "      <th>145</th>\n",
       "      <td>6.7</td>\n",
       "      <td>3.0</td>\n",
       "      <td>5.2</td>\n",
       "      <td>2.3</td>\n",
       "      <td>virginica</td>\n",
       "      <td>11.96</td>\n",
       "    </tr>\n",
       "    <tr>\n",
       "      <th>148</th>\n",
       "      <td>6.2</td>\n",
       "      <td>3.4</td>\n",
       "      <td>5.4</td>\n",
       "      <td>2.3</td>\n",
       "      <td>virginica</td>\n",
       "      <td>12.42</td>\n",
       "    </tr>\n",
       "  </tbody>\n",
       "</table>\n",
       "</div>"
      ],
      "text/plain": [
       "     sepal_length  sepal_width  petal_length  petal_width    species  \\\n",
       "149           5.9          3.0           5.1          1.8  virginica   \n",
       "146           6.3          2.5           5.0          1.9  virginica   \n",
       "147           6.5          3.0           5.2          2.0  virginica   \n",
       "145           6.7          3.0           5.2          2.3  virginica   \n",
       "148           6.2          3.4           5.4          2.3  virginica   \n",
       "\n",
       "     petal_area  \n",
       "149        9.18  \n",
       "146        9.50  \n",
       "147       10.40  \n",
       "145       11.96  \n",
       "148       12.42  "
      ]
     },
     "execution_count": 31,
     "metadata": {},
     "output_type": "execute_result"
    }
   ],
   "source": [
    "# Display all 'virginica' species, sorted by petal_area\n",
    "\n",
    "petal_area_sorted = toy_df.sort_values(by=['petal_area'], ascending=True)\n",
    "\n",
    "# 方括号内：创建了一个boolean mask，挑选出来这个品种；方括号外：用mask定位到DataFrame里的特定行\n",
    "petal_area_sorted[petal_area_sorted.species == 'virginica']"
   ]
  },
  {
   "cell_type": "code",
   "execution_count": 66,
   "metadata": {},
   "outputs": [
    {
     "data": {
      "text/html": [
       "<div>\n",
       "<style scoped>\n",
       "    .dataframe tbody tr th:only-of-type {\n",
       "        vertical-align: middle;\n",
       "    }\n",
       "\n",
       "    .dataframe tbody tr th {\n",
       "        vertical-align: top;\n",
       "    }\n",
       "\n",
       "    .dataframe thead th {\n",
       "        text-align: right;\n",
       "    }\n",
       "</style>\n",
       "<table border=\"1\" class=\"dataframe\">\n",
       "  <thead>\n",
       "    <tr style=\"text-align: right;\">\n",
       "      <th></th>\n",
       "      <th>sepal_length</th>\n",
       "      <th>sepal_width</th>\n",
       "      <th>petal_length</th>\n",
       "      <th>petal_width</th>\n",
       "      <th>species</th>\n",
       "      <th>petal_area</th>\n",
       "    </tr>\n",
       "  </thead>\n",
       "  <tbody>\n",
       "    <tr>\n",
       "      <th>149</th>\n",
       "      <td>5.9</td>\n",
       "      <td>3.0</td>\n",
       "      <td>5.1</td>\n",
       "      <td>1.8</td>\n",
       "      <td>virginica</td>\n",
       "      <td>9.18</td>\n",
       "    </tr>\n",
       "    <tr>\n",
       "      <th>146</th>\n",
       "      <td>6.3</td>\n",
       "      <td>2.5</td>\n",
       "      <td>5.0</td>\n",
       "      <td>1.9</td>\n",
       "      <td>virginica</td>\n",
       "      <td>9.50</td>\n",
       "    </tr>\n",
       "    <tr>\n",
       "      <th>147</th>\n",
       "      <td>6.5</td>\n",
       "      <td>3.0</td>\n",
       "      <td>5.2</td>\n",
       "      <td>2.0</td>\n",
       "      <td>virginica</td>\n",
       "      <td>10.40</td>\n",
       "    </tr>\n",
       "    <tr>\n",
       "      <th>145</th>\n",
       "      <td>6.7</td>\n",
       "      <td>3.0</td>\n",
       "      <td>5.2</td>\n",
       "      <td>2.3</td>\n",
       "      <td>virginica</td>\n",
       "      <td>11.96</td>\n",
       "    </tr>\n",
       "    <tr>\n",
       "      <th>148</th>\n",
       "      <td>6.2</td>\n",
       "      <td>3.4</td>\n",
       "      <td>5.4</td>\n",
       "      <td>2.3</td>\n",
       "      <td>virginica</td>\n",
       "      <td>12.42</td>\n",
       "    </tr>\n",
       "  </tbody>\n",
       "</table>\n",
       "</div>"
      ],
      "text/plain": [
       "     sepal_length  sepal_width  petal_length  petal_width    species  \\\n",
       "149           5.9          3.0           5.1          1.8  virginica   \n",
       "146           6.3          2.5           5.0          1.9  virginica   \n",
       "147           6.5          3.0           5.2          2.0  virginica   \n",
       "145           6.7          3.0           5.2          2.3  virginica   \n",
       "148           6.2          3.4           5.4          2.3  virginica   \n",
       "\n",
       "     petal_area  \n",
       "149        9.18  \n",
       "146        9.50  \n",
       "147       10.40  \n",
       "145       11.96  \n",
       "148       12.42  "
      ]
     },
     "execution_count": 66,
     "metadata": {},
     "output_type": "execute_result"
    }
   ],
   "source": [
    "# 答案如下：\n",
    "toy_df[toy_df.species == 'virginica'].sort_values(by='petal_area')\n",
    "\n",
    "# toy_df[toy_df.species == 'virginica'] 挑选出来符合条件的行，sort_values()对这些行使用sort"
   ]
  },
  {
   "cell_type": "markdown",
   "metadata": {},
   "source": [
    "<strong style=\"color:RoyalBlue\">Expected output:</strong>\n",
    "<table border=\"1\" class=\"dataframe\">\n",
    "  <thead>\n",
    "    <tr style=\"text-align: right\">\n",
    "      <th></th>\n",
    "      <th>sepal_length</th>\n",
    "      <th>sepal_width</th>\n",
    "      <th>petal_length</th>\n",
    "      <th>petal_width</th>\n",
    "      <th>species</th>\n",
    "      <th>petal_area</th>\n",
    "    </tr>\n",
    "  </thead>\n",
    "  <tbody>\n",
    "    <tr>\n",
    "      <th>149</th>\n",
    "      <td>5.9</td>\n",
    "      <td>3.0</td>\n",
    "      <td>5.1</td>\n",
    "      <td>1.8</td>\n",
    "      <td>virginica</td>\n",
    "      <td>9.18</td>\n",
    "    </tr>\n",
    "    <tr>\n",
    "      <th>146</th>\n",
    "      <td>6.3</td>\n",
    "      <td>2.5</td>\n",
    "      <td>5.0</td>\n",
    "      <td>1.9</td>\n",
    "      <td>virginica</td>\n",
    "      <td>9.50</td>\n",
    "    </tr>\n",
    "    <tr>\n",
    "      <th>147</th>\n",
    "      <td>6.5</td>\n",
    "      <td>3.0</td>\n",
    "      <td>5.2</td>\n",
    "      <td>2.0</td>\n",
    "      <td>virginica</td>\n",
    "      <td>10.40</td>\n",
    "    </tr>\n",
    "    <tr>\n",
    "      <th>145</th>\n",
    "      <td>6.7</td>\n",
    "      <td>3.0</td>\n",
    "      <td>5.2</td>\n",
    "      <td>2.3</td>\n",
    "      <td>virginica</td>\n",
    "      <td>11.96</td>\n",
    "    </tr>\n",
    "    <tr>\n",
    "      <th>148</th>\n",
    "      <td>6.2</td>\n",
    "      <td>3.4</td>\n",
    "      <td>5.4</td>\n",
    "      <td>2.3</td>\n",
    "      <td>virginica</td>\n",
    "      <td>12.42</td>\n",
    "    </tr>\n",
    "  </tbody>\n",
    "</table>"
   ]
  },
  {
   "cell_type": "markdown",
   "metadata": {},
   "source": [
    "Based on the output above, what's median <code style=\"color:steelblue\">petal_area</code> for the virginica species?\n",
    "\n",
    "#### B.) Next, let's manually calculate the median <code style=\"color:steelblue\">petal_area</code> for the setosa flowers in our <code style=\"steelblue\">toy_df</code>.\n",
    "* Display all observations of the setosa species.\n",
    "* Sort them by <code style=\"color:steelblue\">petal_area</code> in ascending order.\n",
    "* Based on the output, what's median <code style=\"color:steelblue\">petal_area</code> for the setosa species?"
   ]
  },
  {
   "cell_type": "code",
   "execution_count": 33,
   "metadata": {},
   "outputs": [
    {
     "data": {
      "text/html": [
       "<div>\n",
       "<style scoped>\n",
       "    .dataframe tbody tr th:only-of-type {\n",
       "        vertical-align: middle;\n",
       "    }\n",
       "\n",
       "    .dataframe tbody tr th {\n",
       "        vertical-align: top;\n",
       "    }\n",
       "\n",
       "    .dataframe thead th {\n",
       "        text-align: right;\n",
       "    }\n",
       "</style>\n",
       "<table border=\"1\" class=\"dataframe\">\n",
       "  <thead>\n",
       "    <tr style=\"text-align: right;\">\n",
       "      <th></th>\n",
       "      <th>sepal_length</th>\n",
       "      <th>sepal_width</th>\n",
       "      <th>petal_length</th>\n",
       "      <th>petal_width</th>\n",
       "      <th>species</th>\n",
       "      <th>petal_area</th>\n",
       "    </tr>\n",
       "  </thead>\n",
       "  <tbody>\n",
       "    <tr>\n",
       "      <th>2</th>\n",
       "      <td>4.7</td>\n",
       "      <td>3.2</td>\n",
       "      <td>1.3</td>\n",
       "      <td>0.2</td>\n",
       "      <td>setosa</td>\n",
       "      <td>0.26</td>\n",
       "    </tr>\n",
       "    <tr>\n",
       "      <th>0</th>\n",
       "      <td>5.1</td>\n",
       "      <td>3.5</td>\n",
       "      <td>1.4</td>\n",
       "      <td>0.2</td>\n",
       "      <td>setosa</td>\n",
       "      <td>0.28</td>\n",
       "    </tr>\n",
       "    <tr>\n",
       "      <th>1</th>\n",
       "      <td>4.9</td>\n",
       "      <td>3.0</td>\n",
       "      <td>1.4</td>\n",
       "      <td>0.2</td>\n",
       "      <td>setosa</td>\n",
       "      <td>0.28</td>\n",
       "    </tr>\n",
       "    <tr>\n",
       "      <th>4</th>\n",
       "      <td>5.0</td>\n",
       "      <td>3.6</td>\n",
       "      <td>1.4</td>\n",
       "      <td>0.2</td>\n",
       "      <td>setosa</td>\n",
       "      <td>0.28</td>\n",
       "    </tr>\n",
       "    <tr>\n",
       "      <th>3</th>\n",
       "      <td>4.6</td>\n",
       "      <td>3.1</td>\n",
       "      <td>1.5</td>\n",
       "      <td>0.2</td>\n",
       "      <td>setosa</td>\n",
       "      <td>0.30</td>\n",
       "    </tr>\n",
       "  </tbody>\n",
       "</table>\n",
       "</div>"
      ],
      "text/plain": [
       "   sepal_length  sepal_width  petal_length  petal_width species  petal_area\n",
       "2           4.7          3.2           1.3          0.2  setosa        0.26\n",
       "0           5.1          3.5           1.4          0.2  setosa        0.28\n",
       "1           4.9          3.0           1.4          0.2  setosa        0.28\n",
       "4           5.0          3.6           1.4          0.2  setosa        0.28\n",
       "3           4.6          3.1           1.5          0.2  setosa        0.30"
      ]
     },
     "execution_count": 33,
     "metadata": {},
     "output_type": "execute_result"
    }
   ],
   "source": [
    "# Display all 'setosa' species\n",
    "\n",
    "sorted_petal_area_setosa = toy_df.sort_values(by=['petal_area'])\n",
    "sorted_petal_area_setosa[sorted_petal_area_setosa.species == 'setosa']\n"
   ]
  },
  {
   "cell_type": "code",
   "execution_count": null,
   "metadata": {},
   "outputs": [],
   "source": [
    "# 类似上一题，答案只有一行：\n",
    "toy_df[toy_df.species == 'setosa'].sort_values(by='petal_area')"
   ]
  },
  {
   "cell_type": "markdown",
   "metadata": {},
   "source": [
    "<strong style=\"color:RoyalBlue\">Expected output:</strong>\n",
    "<table border=\"1\" class=\"dataframe\">\n",
    "  <thead>\n",
    "    <tr style=\"text-align: right\">\n",
    "      <th></th>\n",
    "      <th>sepal_length</th>\n",
    "      <th>sepal_width</th>\n",
    "      <th>petal_length</th>\n",
    "      <th>petal_width</th>\n",
    "      <th>species</th>\n",
    "      <th>petal_area</th>\n",
    "    </tr>\n",
    "  </thead>\n",
    "  <tbody>\n",
    "    <tr>\n",
    "      <th>2</th>\n",
    "      <td>4.7</td>\n",
    "      <td>3.2</td>\n",
    "      <td>1.3</td>\n",
    "      <td>0.2</td>\n",
    "      <td>setosa</td>\n",
    "      <td>0.26</td>\n",
    "    </tr>\n",
    "    <tr>\n",
    "      <th>0</th>\n",
    "      <td>5.1</td>\n",
    "      <td>3.5</td>\n",
    "      <td>1.4</td>\n",
    "      <td>0.2</td>\n",
    "      <td>setosa</td>\n",
    "      <td>0.28</td>\n",
    "    </tr>\n",
    "    <tr>\n",
    "      <th>1</th>\n",
    "      <td>4.9</td>\n",
    "      <td>3.0</td>\n",
    "      <td>1.4</td>\n",
    "      <td>0.2</td>\n",
    "      <td>setosa</td>\n",
    "      <td>0.28</td>\n",
    "    </tr>\n",
    "    <tr>\n",
    "      <th>4</th>\n",
    "      <td>5.0</td>\n",
    "      <td>3.6</td>\n",
    "      <td>1.4</td>\n",
    "      <td>0.2</td>\n",
    "      <td>setosa</td>\n",
    "      <td>0.28</td>\n",
    "    </tr>\n",
    "    <tr>\n",
    "      <th>3</th>\n",
    "      <td>4.6</td>\n",
    "      <td>3.1</td>\n",
    "      <td>1.5</td>\n",
    "      <td>0.2</td>\n",
    "      <td>setosa</td>\n",
    "      <td>0.30</td>\n",
    "    </tr>\n",
    "  </tbody>\n",
    "</table>"
   ]
  },
  {
   "cell_type": "markdown",
   "metadata": {},
   "source": [
    "#### C.) Finally let's calculate the median values using a <code style=\"color:steelblue\">.groupby()</code>.\n",
    "* Do you get the same result?"
   ]
  },
  {
   "cell_type": "code",
   "execution_count": 54,
   "metadata": {},
   "outputs": [
    {
     "name": "stdout",
     "output_type": "stream",
     "text": [
      "4.74\n"
     ]
    }
   ],
   "source": [
    "# Median petal_area in toy_df\n",
    "\n",
    "print(toy_df['petal_area'].median())"
   ]
  },
  {
   "cell_type": "code",
   "execution_count": 55,
   "metadata": {},
   "outputs": [
    {
     "name": "stdout",
     "output_type": "stream",
     "text": [
      "           sepal_length  sepal_width  petal_length  petal_width  petal_area\n",
      "species                                                                    \n",
      "setosa              4.9          3.2           1.4          0.2        0.28\n",
      "virginica           6.3          3.0           5.2          2.0       10.40\n"
     ]
    }
   ],
   "source": [
    "print(toy_df.groupby('species').median()) \n",
    "\n",
    "# 没有弄明白怎么只显示最后一列"
   ]
  },
  {
   "cell_type": "code",
   "execution_count": 65,
   "metadata": {
    "scrolled": true
   },
   "outputs": [
    {
     "name": "stdout",
     "output_type": "stream",
     "text": [
      "       species  petal_area\n",
      "0       setosa        0.28\n",
      "1       setosa        0.28\n",
      "2       setosa        0.26\n",
      "3       setosa        0.30\n",
      "4       setosa        0.28\n",
      "145  virginica       11.96\n",
      "146  virginica        9.50\n",
      "147  virginica       10.40\n",
      "148  virginica       12.42\n",
      "149  virginica        9.18\n"
     ]
    },
    {
     "data": {
      "text/html": [
       "<div>\n",
       "<style scoped>\n",
       "    .dataframe tbody tr th:only-of-type {\n",
       "        vertical-align: middle;\n",
       "    }\n",
       "\n",
       "    .dataframe tbody tr th {\n",
       "        vertical-align: top;\n",
       "    }\n",
       "\n",
       "    .dataframe thead th {\n",
       "        text-align: right;\n",
       "    }\n",
       "</style>\n",
       "<table border=\"1\" class=\"dataframe\">\n",
       "  <thead>\n",
       "    <tr style=\"text-align: right;\">\n",
       "      <th></th>\n",
       "      <th>petal_area</th>\n",
       "    </tr>\n",
       "    <tr>\n",
       "      <th>species</th>\n",
       "      <th></th>\n",
       "    </tr>\n",
       "  </thead>\n",
       "  <tbody>\n",
       "    <tr>\n",
       "      <th>setosa</th>\n",
       "      <td>0.28</td>\n",
       "    </tr>\n",
       "    <tr>\n",
       "      <th>virginica</th>\n",
       "      <td>10.40</td>\n",
       "    </tr>\n",
       "  </tbody>\n",
       "</table>\n",
       "</div>"
      ],
      "text/plain": [
       "           petal_area\n",
       "species              \n",
       "setosa           0.28\n",
       "virginica       10.40"
      ]
     },
     "execution_count": 65,
     "metadata": {},
     "output_type": "execute_result"
    }
   ],
   "source": [
    "# 显示一个DataFrame里的两列：\n",
    "print(toy_df[['species','petal_area']])\n",
    "\n",
    "toy_df[['species','petal_area']].groupby('species').median()\n",
    "\n",
    "# 成功了！！重点：如何显示DataFrame里的若干列；groupby()后可以加别的函数！"
   ]
  },
  {
   "cell_type": "code",
   "execution_count": 67,
   "metadata": {},
   "outputs": [
    {
     "data": {
      "text/plain": [
       "species\n",
       "setosa        0.28\n",
       "virginica    10.40\n",
       "Name: petal_area, dtype: float64"
      ]
     },
     "execution_count": 67,
     "metadata": {},
     "output_type": "execute_result"
    }
   ],
   "source": [
    "# 答案：\n",
    "toy_df.groupby('species').petal_area.median()\n",
    "\n",
    "# 从DataFrame中直接挑选列可以用.<列的名字>，这是相当于是一个函数，既然groupby()后面可以用函数，那么也可以用这个咯！"
   ]
  },
  {
   "cell_type": "markdown",
   "metadata": {},
   "source": [
    "<strong style=\"color:RoyalBlue\">Expected output:</strong>\n",
    "<pre>\n",
    "species\n",
    "setosa        0.28\n",
    "virginica    10.40\n",
    "Name: petal_area, dtype: float64\n",
    "</pre>"
   ]
  },
  {
   "cell_type": "markdown",
   "metadata": {},
   "source": [
    "#### Congratulations... You've completed the training mission!\n",
    "\n",
    "In this lesson, you explored the Iris dataset using Pandas. After arming yourself with Pandas, you've successfully completed the rest of the training mission!*"
   ]
  }
 ],
 "metadata": {
  "anaconda-cloud": {},
  "kernelspec": {
   "display_name": "Python 3",
   "language": "python",
   "name": "python3"
  },
  "language_info": {
   "codemirror_mode": {
    "name": "ipython",
    "version": 3
   },
   "file_extension": ".py",
   "mimetype": "text/x-python",
   "name": "python",
   "nbconvert_exporter": "python",
   "pygments_lexer": "ipython3",
   "version": "3.8.8"
  }
 },
 "nbformat": 4,
 "nbformat_minor": 1
}
