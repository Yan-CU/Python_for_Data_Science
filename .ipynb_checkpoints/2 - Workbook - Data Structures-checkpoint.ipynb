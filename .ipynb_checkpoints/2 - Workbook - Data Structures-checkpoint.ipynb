{
 "cells": [
  {
   "cell_type": "markdown",
   "metadata": {},
   "source": [
    "#### COMPANION WORKBOOK\n",
    "\n",
    "# Data Structures\n",
    "\n",
    "To make the most out of this program, we strongly recommend you to:\n",
    "1. First practice writing and implementing all of the code from Coding Section of the online module.\n",
    "2. Then, freely experiment with and explore any interesting or confusing concepts. Simply insert new code cells and then use the help of Google and official documentation.\n",
    "3. Finally, tackle all of the exercises at the end. They will help you tie everything together and **learn in context.**\n",
    "\n",
    "#### <span style=\"color:#555\">MODULE CODE SANDBOX</span>\n",
    "\n",
    "Use this space to practice writing and implementing all of the code from Coding Section of the online module. Insert new code cells as needed, and feel free to write notes to yourself in Markdown."
   ]
  },
  {
   "cell_type": "markdown",
   "metadata": {},
   "source": [
    "## I. Lists are mutable sequences of objects."
   ]
  },
  {
   "cell_type": "code",
   "execution_count": null,
   "metadata": {},
   "outputs": [],
   "source": []
  },
  {
   "cell_type": "code",
   "execution_count": null,
   "metadata": {},
   "outputs": [],
   "source": []
  },
  {
   "cell_type": "code",
   "execution_count": null,
   "metadata": {},
   "outputs": [],
   "source": []
  },
  {
   "cell_type": "markdown",
   "metadata": {},
   "source": [
    "## II. Tuples are immutable sequences of objects."
   ]
  },
  {
   "cell_type": "markdown",
   "metadata": {},
   "source": [
    "** One convenient tip about tuples is that you can unpack their individual elements.**\n",
    "1. That just means setting them to different variables\n",
    "2. This is convenient for functions that return more than 1 value (more on this later)."
   ]
  },
  {
   "cell_type": "code",
   "execution_count": 1,
   "metadata": {},
   "outputs": [
    {
     "name": "stdout",
     "output_type": "stream",
     "text": [
      "hello world\n"
     ]
    }
   ],
   "source": [
    "my_tuple = ('hello', 1, 'world', 2, 3.0)\n",
    "# Unpack tuple\n",
    "a, b, c, d, e = my_tuple\n",
    "\n",
    "# Print a and c, which were the first and third elements from the list\n",
    "print( a, c )"
   ]
  },
  {
   "cell_type": "markdown",
   "metadata": {},
   "source": [
    "## III. Sets are collections of unique objects."
   ]
  },
  {
   "cell_type": "code",
   "execution_count": 2,
   "metadata": {},
   "outputs": [
    {
     "name": "stdout",
     "output_type": "stream",
     "text": [
      "{1, 2, 3, 5, 8, 13}\n"
     ]
    }
   ],
   "source": [
    "#可以用set()函数从其他的数据结构生成set\n",
    "# Create a list\n",
    "fibonacci_list = [ 1, 1, 2, 3, 5, 8, 13 ]\n",
    "\n",
    "# Convert it to a set\n",
    "fibonacci_set = set(fibonacci_list)\n",
    "\n",
    "print( fibonacci_set ) #set中的元素只能出现一次"
   ]
  },
  {
   "cell_type": "markdown",
   "metadata": {},
   "source": [
    "**每种操作都有两种方式**\n",
    "\n",
    "Union is performed through the union() function or the | operator. \n",
    "\n",
    "Intersection is performed through the intersection() function or the & operator.\n",
    "\n",
    "Difference is performed through the difference() function or the - operator."
   ]
  },
  {
   "cell_type": "code",
   "execution_count": 3,
   "metadata": {},
   "outputs": [
    {
     "name": "stdout",
     "output_type": "stream",
     "text": [
      "{1, 2, 3, 4, 5, 8, 13, 16}\n",
      "{1, 2, 3, 4, 5, 8, 13, 16}\n",
      "{8, 1, 2}\n",
      "{8, 1, 2}\n",
      "{16, 4}\n",
      "{13, 3, 5}\n"
     ]
    }
   ],
   "source": [
    "powers_of_two = { 1, 2, 4, 8, 16 }\n",
    "fibonacci_set = { 1, 1, 2, 3, 5, 8, 13 }\n",
    "\n",
    "# Union: Elements in either set\n",
    "print( powers_of_two.union( fibonacci_set ) )\n",
    "print( powers_of_two | fibonacci_set )\n",
    "\n",
    "# Intersection: Elements in both sets\n",
    "print( powers_of_two.intersection( fibonacci_set ) )\n",
    "print( powers_of_two & fibonacci_set )\n",
    "\n",
    "# Difference\n",
    "print( powers_of_two - fibonacci_set )\n",
    "print( fibonacci_set - powers_of_two)"
   ]
  },
  {
   "cell_type": "markdown",
   "metadata": {},
   "source": [
    " **集合set的元素是不能有重复的，但是列表list的元素是可以重复的，如果同样的内容，列表的长度大于集合的长度，则说明列表中有重复的元素**"
   ]
  },
  {
   "cell_type": "markdown",
   "metadata": {},
   "source": [
    "## IV. Dictionaries are collections of key-value pairs."
   ]
  },
  {
   "cell_type": "markdown",
   "metadata": {},
   "source": [
    "字典中的元素没有顺序，元素由key来index，每个key储存来一个值。字典和set都使用花括号，但他们并不一样。\n",
    "\n",
    "key是value的名字，应该是描述性的。value是需要储存的什么东西，比如float，lists，functions，等等。"
   ]
  },
  {
   "cell_type": "code",
   "execution_count": 4,
   "metadata": {},
   "outputs": [],
   "source": [
    "my_dict = {\n",
    "    'title' : \"Hitchhiker's Guide to the Galaxy\",\n",
    "    'author' : 'Dougie Adams',\n",
    "    42 : ['A number.', 'The answer to 40 + 2 = ?'] # Keys can be integers too!\n",
    "}"
   ]
  },
  {
   "cell_type": "code",
   "execution_count": 5,
   "metadata": {},
   "outputs": [
    {
     "name": "stdout",
     "output_type": "stream",
     "text": [
      "Douglas Adams\n",
      "['A number.', 'The answer to 40 + 2 = ?']\n"
     ]
    }
   ],
   "source": [
    "# Updating existing key-value pair\n",
    "my_dict['author'] = 'Douglas Adams'\n",
    "\n",
    "# Print the value for the 'author' key\n",
    "print( my_dict['author'] )\n",
    "\n",
    "# Print value for the key 42\n",
    "print( my_dict[42] )"
   ]
  },
  {
   "cell_type": "code",
   "execution_count": 6,
   "metadata": {},
   "outputs": [
    {
     "name": "stdout",
     "output_type": "stream",
     "text": [
      "['A number.', 'The answer to 40 + 2 = ?', 'Answer to the Ultimate Question of Life, the Universe, and Everything']\n"
     ]
    }
   ],
   "source": [
    "# Append element to list    value是可以加入新的元素的！\n",
    "my_dict[42].append('Answer to the Ultimate Question of Life, the Universe, and Everything')\n",
    "\n",
    "# Print value for the key 42\n",
    "print( my_dict[42] )"
   ]
  },
  {
   "cell_type": "code",
   "execution_count": 7,
   "metadata": {},
   "outputs": [],
   "source": [
    "# Creating a new key-value pair 加入新的元素很简单，给一个从未被使用过的key赋一个值就可以\n",
    "my_dict['year'] = 1979"
   ]
  },
  {
   "cell_type": "markdown",
   "metadata": {},
   "source": [
    "### 这个很酷！！"
   ]
  },
  {
   "cell_type": "code",
   "execution_count": 8,
   "metadata": {},
   "outputs": [
    {
     "name": "stdout",
     "output_type": "stream",
     "text": [
      "Hitchhiker's Guide to the Galaxy was written by Douglas Adams in 1979.\n"
     ]
    }
   ],
   "source": [
    "# Print summary of the book. 打印一本书的摘要\n",
    "print('{} was written by {} in {}.'.format(my_dict['title'],\n",
    "                                           my_dict['author'],\n",
    "                                           my_dict['year']) )"
   ]
  },
  {
   "cell_type": "code",
   "execution_count": 9,
   "metadata": {},
   "outputs": [
    {
     "name": "stdout",
     "output_type": "stream",
     "text": [
      "dict_keys(['title', 'author', 42, 'year'])\n",
      "dict_values([\"Hitchhiker's Guide to the Galaxy\", 'Douglas Adams', ['A number.', 'The answer to 40 + 2 = ?', 'Answer to the Ultimate Question of Life, the Universe, and Everything'], 1979])\n",
      "dict_items([('title', \"Hitchhiker's Guide to the Galaxy\"), ('author', 'Douglas Adams'), (42, ['A number.', 'The answer to 40 + 2 = ?', 'Answer to the Ultimate Question of Life, the Universe, and Everything']), ('year', 1979)])\n"
     ]
    }
   ],
   "source": [
    "# 两个函数，打印所有的key和value\n",
    "# Keys\n",
    "print( my_dict.keys() )\n",
    "\n",
    "# Values\n",
    "print( my_dict.values() )\n",
    "\n",
    "\n",
    "# 函数.itemes()打印所有的key- value pair\n",
    "# All items (list of tuples)\n",
    "print( my_dict.items() )"
   ]
  },
  {
   "cell_type": "markdown",
   "metadata": {},
   "source": [
    "#### <span style=\"color:#555\">EXERCISES</span>\n",
    "\n",
    "Complete each of the following exercises.\n",
    "\n",
    "## <span style=\"color:RoyalBlue\">Exercise 2.1 - Listing the Locations</span>\n",
    "\n",
    "#### In the previous module...\n",
    "\n",
    "In the previous module, you learned about the training mission: a visit to London. You also made sure you had enough water for the trip by performing calculations. Now, it's time to start planning the locations in London to visit! Before we start, let's import lists of locations by borough. \n",
    "* These are stored in text files that HQ has provided for you. \n",
    "* Python has a variety of **input/output** methods. We won't cover them here, but you can learn more about them in the [documentation](https://docs.python.org/3/tutorial/inputoutput.html).\n",
    "\n",
    "#### A.) First, run this code. This will read lists of locations by borough."
   ]
  },
  {
   "cell_type": "code",
   "execution_count": 10,
   "metadata": {},
   "outputs": [],
   "source": [
    "# Read lists of locations (simply run this code block)\n",
    "with open('project_files/brent.txt', 'r') as f:\n",
    "    brent = f.read().splitlines()\n",
    "    \n",
    "with open('project_files/camden.txt', 'r') as f:\n",
    "    camden = f.read().splitlines()\n",
    "\n",
    "with open('project_files/redbridge.txt', 'r') as f:\n",
    "    redbridge = f.read().splitlines()\n",
    "\n",
    "with open('project_files/southwark.txt', 'r') as f:\n",
    "    southwark = f.read().splitlines()"
   ]
  },
  {
   "cell_type": "markdown",
   "metadata": {},
   "source": [
    "Note that when text files are read using the <code style=\"color:steelblue\">splitlines()</code> function, the resulting object is a list.\n",
    "\n",
    "So the four objects you just created from the files - <code style=\"color:steelblue\">brent</code>, <code style=\"color:steelblue\">camden</code>, <code style=\"color:steelblue\">redbridge</code>, and <code style=\"color:steelblue\">southwark</code> - are all lists.\n",
    "\n",
    "#### B.) Confirm that the new objects are all Python lists."
   ]
  },
  {
   "cell_type": "code",
   "execution_count": 11,
   "metadata": {},
   "outputs": [
    {
     "name": "stdout",
     "output_type": "stream",
     "text": [
      "<class 'list'>\n",
      "<class 'list'>\n",
      "<class 'list'>\n",
      "<class 'list'>\n"
     ]
    }
   ],
   "source": [
    "# Display the classes of your new objects\n",
    "print(type(brent))\n",
    "print(type(camden))\n",
    "print(type(redbridge))\n",
    "print(type(southwark))"
   ]
  },
  {
   "cell_type": "markdown",
   "metadata": {},
   "source": [
    "Let's start exploring this data.\n",
    "\n",
    "#### C.) Print the first 5 locations in the Camden list."
   ]
  },
  {
   "cell_type": "code",
   "execution_count": 12,
   "metadata": {},
   "outputs": [
    {
     "name": "stdout",
     "output_type": "stream",
     "text": [
      "['Chalk Farm', 'Dartmouth Park', 'Fitzrovia', 'Frognal', 'Bloomsbury']\n"
     ]
    }
   ],
   "source": [
    "# Print the first 5 locations in Camden\n",
    "print(camden[0:5])"
   ]
  },
  {
   "cell_type": "markdown",
   "metadata": {},
   "source": [
    "<strong style=\"color:RoyalBlue\">Expected output:</strong>\n",
    "\n",
    "<pre>['Chalk Farm', 'Dartmouth Park', 'Fitzrovia', 'Frognal', 'Bloomsbury']</pre>"
   ]
  },
  {
   "cell_type": "markdown",
   "metadata": {},
   "source": [
    "Next, we need to know how many locations are in each borough. \n",
    "\n",
    "#### D.) Print the number of locations in each list.\n",
    "* Which borough has the most locations?\n",
    "* Which borough has the fewest locations?"
   ]
  },
  {
   "cell_type": "code",
   "execution_count": 13,
   "metadata": {},
   "outputs": [
    {
     "name": "stdout",
     "output_type": "stream",
     "text": [
      "19\n",
      "22\n",
      "18\n",
      "15\n",
      "{19: 'Brent', 22: 'Camden', 18: 'Redbridge', 15: 'Southwark'}\n",
      "15\n"
     ]
    }
   ],
   "source": [
    "# Print length of each list\n",
    "print(len(brent))\n",
    "print(len(camden))\n",
    "print(len(redbridge))\n",
    "print(len(southwark))\n",
    "\n",
    "numberOfLocations = {len(brent):'Brent',len(camden):'Camden',len(redbridge):'Redbridge',len(southwark):'Southwark'}\n",
    "\n",
    "print(numberOfLocations)\n",
    "\n",
    "# 求value最大的key值，放弃\n",
    "v1 = max(numberOfLocations,key=numberOfLocations.get)\n",
    "print(v1)\n"
   ]
  },
  {
   "cell_type": "markdown",
   "metadata": {},
   "source": [
    "<strong style=\"color:RoyalBlue\">Expected output:</strong>\n",
    "<pre>\n",
    "19\n",
    "22\n",
    "18\n",
    "15\n",
    "</pre>\n",
    "\n",
    "*Camden has the most locations and Southwark has the fewest.*"
   ]
  },
  {
   "cell_type": "markdown",
   "metadata": {},
   "source": [
    "#### E.) Next, HQ wants to check a few locations. Do the following:\n",
    "* **Print <code style=\"color:steelblue\">True</code> if <code>'Newbury Park'</code> is in Redbridge or <code style=\"color:steelblue\">False</code> if it's not.**\n",
    "* **Print <code style=\"color:steelblue\">True</code> if <code>'Peckham'</code> is in Brent or <code style=\"color:steelblue\">False</code> if it's not.**"
   ]
  },
  {
   "cell_type": "code",
   "execution_count": 14,
   "metadata": {},
   "outputs": [
    {
     "name": "stdout",
     "output_type": "stream",
     "text": [
      "True\n",
      "False\n"
     ]
    }
   ],
   "source": [
    "# Is 'Newbury Park' in Redbridge?\n",
    "print('Newbury Park' in redbridge)\n",
    "\n",
    "# Is 'Peckham' in Brent?\n",
    "print('Peckhan' in brent)"
   ]
  },
  {
   "cell_type": "markdown",
   "metadata": {},
   "source": [
    "#### F.) Next, try printing the \"minimum\" and \"maximum\" values in the Southwark list.\n",
    "* Why do you think you get those results?\n",
    "* How do you think lists of strings are ordered?"
   ]
  },
  {
   "cell_type": "code",
   "execution_count": 15,
   "metadata": {
    "scrolled": true
   },
   "outputs": [
    {
     "name": "stdout",
     "output_type": "stream",
     "text": [
      "Bankside\n",
      "Walworth\n"
     ]
    }
   ],
   "source": [
    "# Print minimum value in southwark\n",
    "print(min(southwark))\n",
    "\n",
    "# Print maximum value in southwark\n",
    "print(max(southwark))\n",
    "\n",
    "# It might be the alphebatical order of the list?"
   ]
  },
  {
   "cell_type": "markdown",
   "metadata": {},
   "source": [
    "#### G.) Finally, try printing the \"minimum\" and \"maximum\" values from all of the other 3 lists.\n",
    "* Do the results confirm your suspicions from (F)?"
   ]
  },
  {
   "cell_type": "code",
   "execution_count": 16,
   "metadata": {},
   "outputs": [
    {
     "name": "stdout",
     "output_type": "stream",
     "text": [
      "Alperton\n",
      "Willesden\n",
      "Belsize Park\n",
      "West Hampstead\n",
      "Aldborough Hatch\n",
      "Woodford Green\n"
     ]
    }
   ],
   "source": [
    "# Print min/max values in brent\n",
    "print(min(brent))\n",
    "print(max(brent))\n",
    "\n",
    "# Print min/max values in camden\n",
    "print(min(camden))\n",
    "print(max(camden))\n",
    "\n",
    "# Print min/max values in redbridge\n",
    "print(min(redbridge))\n",
    "print(max(redbridge))"
   ]
  },
  {
   "cell_type": "markdown",
   "metadata": {},
   "source": [
    "## <span style=\"color:RoyalBlue\">Exercise 2.2 - Setting Uniques</span>\n",
    "\n",
    "Let's continue planning locations to visit for our training mission to London. Before we continue, we need to remove duplicates from our lists because we don't have time to visit the same location twice.\n",
    "\n",
    "#### A.) For each of the 4 lists of locations, print <code style=\"color:steelblue\">True</code> if it has duplicate locations and <code style=\"color:steelblue\">False</code> if it doesn't.\n",
    "* Hint: A list with duplicates will have a greater length than a set of the same locations."
   ]
  },
  {
   "cell_type": "code",
   "execution_count": 17,
   "metadata": {},
   "outputs": [
    {
     "name": "stdout",
     "output_type": "stream",
     "text": [
      "False\n",
      "True\n",
      "True\n",
      "True\n"
     ]
    }
   ],
   "source": [
    "# Brent has duplicates?\n",
    "brent_set = set(brent)\n",
    "# print(brent_set)\n",
    "# print(brent)\n",
    "print(len(brent)>len(brent_set))\n",
    "      \n",
    "# Camden has duplicates?\n",
    "camden_set = set(camden)\n",
    "print(len(camden)>len(camden_set))\n",
    "\n",
    "# Redbridge has duplicates?\n",
    "redbridge_set = set(redbridge)\n",
    "print(len(redbridge)>len(redbridge_set))\n",
    "      \n",
    "# Southwark has duplicates?\n",
    "southwark_set = set(southwark)\n",
    "print(len(southwark)>len(southwark_set))"
   ]
  },
  {
   "cell_type": "markdown",
   "metadata": {},
   "source": [
    "<strong style=\"color:RoyalBlue\">Expected output:</strong>\n",
    "<pre>\n",
    "False\n",
    "True\n",
    "True\n",
    "True\n",
    "</pre>"
   ]
  },
  {
   "cell_type": "markdown",
   "metadata": {},
   "source": [
    "#### B.) For the lists with duplicates, remove duplicates by converting them into sets. Then, convert them back into lists.\n",
    "* Hint: <code style=\"color:steelblue\">set()</code> and <code style=\"color:steelblue\">list()</code> are your friends."
   ]
  },
  {
   "cell_type": "code",
   "execution_count": 18,
   "metadata": {},
   "outputs": [],
   "source": [
    "# Convert lists to sets to remove duplicates, then convert them back to lists \n",
    "brent = list(brent_set)\n",
    "camden = list(camden_set)\n",
    "redbridge = list(redbridge_set)\n",
    "southwark = list(southwark_set)"
   ]
  },
  {
   "cell_type": "markdown",
   "metadata": {},
   "source": [
    "Great, we're now almost ready to visit the locations. \n",
    "\n",
    "But first, let's look at a simple way to store the locations in one place."
   ]
  },
  {
   "cell_type": "markdown",
   "metadata": {},
   "source": [
    "## <span style=\"color:RoyalBlue\">Exercise 2.3 - Dictionary Database</span>\n",
    "\n",
    "We're almost ready to visit the locations in London! However, it's too cumbersome to lug around the 4 different lists we created in the previous exercise.\n",
    "\n",
    "#### A.) Create a single dictionary named <code style=\"color:steelblue\">location_dict</code> for the locations in each borough.\n",
    "* Each key should be the name of the borough.\n",
    "* Their values should be the lists of unique locations you created in <span style=\"color:RoyalBlue\">Exercise 2.2</span>."
   ]
  },
  {
   "cell_type": "code",
   "execution_count": 19,
   "metadata": {},
   "outputs": [],
   "source": [
    "# Create location_dict\n",
    "location_dict = {\n",
    "        'Brent': brent,\n",
    "        'Camden':camden,\n",
    "        'Redbridge':redbridge,\n",
    "        'Southwark':southwark\n",
    "}\n",
    "# print(location_dict)"
   ]
  },
  {
   "cell_type": "markdown",
   "metadata": {},
   "source": [
    "Next, let's make sure the dictionary has the correct keys. \n",
    "\n",
    "#### B.) Run the cell below and check the output.\n",
    "* What do you think the code below is doing?\n",
    "* You'll learn more about <code style=\"color:steelblue\">for</code> loops in the next module."
   ]
  },
  {
   "cell_type": "code",
   "execution_count": 20,
   "metadata": {},
   "outputs": [
    {
     "name": "stdout",
     "output_type": "stream",
     "text": [
      "True\n",
      "True\n",
      "True\n",
      "True\n"
     ]
    }
   ],
   "source": [
    "# Run this cell\n",
    "for borough in ['Brent', 'Camden', 'Redbridge', 'Southwark']:\n",
    "    print( borough in location_dict )"
   ]
  },
  {
   "cell_type": "markdown",
   "metadata": {},
   "source": [
    "<strong style=\"color:RoyalBlue\">Expected output:</strong>\n",
    "<pre>\n",
    "True\n",
    "True\n",
    "True\n",
    "True\n",
    "</pre>"
   ]
  },
  {
   "cell_type": "markdown",
   "metadata": {},
   "source": [
    "Did you get the expected output? If not, check the answer key before moving on.\n",
    "\n",
    "You've just received a message from HQ. *\"Now that you've set up your dictionary, you won't need the original lists anymore. Get rid of them and wipe them clean.\"*\n",
    "\n",
    "#### C.) Overwrite the original borough lists with <code style=\"color:steelblue\">None</code>.\n",
    "* <code style=\"color:steelblue\">None</code> is an object that denotes emptiness. It's a separate object type within Python, similar to integers, floats, etc.\n",
    "* There are different ways to approach this. See if you can do it in just one line of code! (Hint: \"unpacking\") The answer key has the solution that uses only one line of code."
   ]
  },
  {
   "cell_type": "code",
   "execution_count": 21,
   "metadata": {},
   "outputs": [],
   "source": [
    "# Wipe your original lists clean with None\n",
    "brent, camden, redridge, southwark = None, None, None, None"
   ]
  },
  {
   "cell_type": "markdown",
   "metadata": {},
   "source": [
    "#### D.) Confirm that all of your lists were wiped successfully. Print out each one's new class/type.\n",
    "* Tip: When you overwrite a variable with a new object, it keeps the same variable name, but the object could be a completely different type of object."
   ]
  },
  {
   "cell_type": "code",
   "execution_count": 22,
   "metadata": {
    "scrolled": true
   },
   "outputs": [
    {
     "name": "stdout",
     "output_type": "stream",
     "text": [
      "<class 'NoneType'>\n",
      "<class 'NoneType'>\n",
      "<class 'NoneType'>\n",
      "<class 'NoneType'>\n"
     ]
    }
   ],
   "source": [
    "print(type(brent))\n",
    "print(type(camden))\n",
    "print(type(redridge))\n",
    "print(type(southwark))"
   ]
  },
  {
   "cell_type": "markdown",
   "metadata": {},
   "source": [
    "<strong style=\"color:RoyalBlue\">Expected output:</strong>\n",
    "<pre>\n",
    "&lt;class 'NoneType'>\n",
    "&lt;class 'NoneType'>\n",
    "&lt;class 'NoneType'>\n",
    "&lt;class 'NoneType'>\n",
    "</pre>"
   ]
  },
  {
   "cell_type": "markdown",
   "metadata": {},
   "source": [
    "Now, we want to split our visit to London into two trips: one for Inner London and one for Outer London.\n",
    "\n",
    "#### E.) Add two new items to your dictionary:\n",
    "1. **Key:** <code style=\"color:steelblue\">'Inner London'</code>... **Value:** All locations in <code style=\"color:steelblue\">'Camden'</code> and <code style=\"color:steelblue\">'Southwark'</code>.\n",
    "2. **Key:** <code style=\"color:steelblue\">'Outer London'</code>... **Value:** All locations in <code style=\"color:steelblue\">'Brent'</code> and <code style=\"color:steelblue\">'Redbridge'</code>.\n",
    "\n",
    "Since you got rid of your original lists, you'll have to use the values you've already stored in your dictionary."
   ]
  },
  {
   "cell_type": "code",
   "execution_count": 28,
   "metadata": {},
   "outputs": [],
   "source": [
    "# Create a new key-value pair for 'Inner London' \n",
    "# 之前的字典的value都是list，不是set，现在需要先转化成为set\n",
    "\n",
    "location_dict['Brent'] = set(location_dict['Brent'])\n",
    "location_dict['Camden'] = set(location_dict['Camden'])\n",
    "location_dict['Redbridge'] = set(location_dict['Redbridge'])\n",
    "location_dict['Southwark'] = set(location_dict['Southwark'])\n",
    "\n",
    "# 折腾一大堆，发现'set' object has no attribute 'append'\n",
    "# 继续看笔记，发现list用append，set用union或者“｜”竖号\n",
    "\n",
    "location_dict['Inner London'] = location_dict['Camden'] | location_dict['Southwark']\n",
    "# print(location_dict['Inner London'])\n",
    "\n",
    "# Create a new key-value pair for 'Outer London'\n",
    "location_dict['Outer London'] = location_dict['Brent']|location_dict['Redbridge']\n"
   ]
  },
  {
   "cell_type": "markdown",
   "metadata": {},
   "source": [
    "Finally, let's just check that we have the right number of locations for each trip.\n",
    "* You should have 32 for Inner London\n",
    "* You should have 35 for Outer London\n",
    "\n",
    "#### F.) Run the cell below and check that you get the expected output.\n",
    "* The <code>len</code> function counts the number of elements in a list-like object. You'll see this pop up many times throughout this program."
   ]
  },
  {
   "cell_type": "code",
   "execution_count": 29,
   "metadata": {},
   "outputs": [
    {
     "name": "stdout",
     "output_type": "stream",
     "text": [
      "32\n",
      "35\n"
     ]
    }
   ],
   "source": [
    "print( len(location_dict['Inner London']) )\n",
    "print( len(location_dict['Outer London']) )"
   ]
  },
  {
   "cell_type": "markdown",
   "metadata": {},
   "source": [
    "<strong style=\"color:RoyalBlue\">Expected output:</strong>\n",
    "<pre>\n",
    "32\n",
    "35\n",
    "</pre>"
   ]
  },
  {
   "cell_type": "markdown",
   "metadata": {},
   "source": [
    "If you don't have the right number of locations, doublecheck that you removed duplicates and that you're concatenating the correct lists. You can also check the answer key for the solution.\n",
    "\n",
    "#### G.) Once you have the right number of locations, let's save this object so we can use it in the next module. Run the cell below.\n",
    "* We'll use a Python built-in package called <code style=\"color:steelblue\">pickle</code> to do so.\n",
    "* Pickle saves an entire object in a file on your computer."
   ]
  },
  {
   "cell_type": "code",
   "execution_count": 31,
   "metadata": {},
   "outputs": [],
   "source": [
    "import pickle\n",
    "\n",
    "# Save object to disk\n",
    "with open('location_dict.pkl', 'wb') as f:\n",
    "    pickle.dump(location_dict, f)"
   ]
  },
  {
   "cell_type": "markdown",
   "metadata": {},
   "source": [
    "#### The mission continues in the next module...\n",
    "\n",
    "Now you have a dictionary of locations in London by borough. In the next module, we'll look through the locations and pick one to start with."
   ]
  }
 ],
 "metadata": {
  "anaconda-cloud": {},
  "kernelspec": {
   "display_name": "Python 3",
   "language": "python",
   "name": "python3"
  },
  "language_info": {
   "codemirror_mode": {
    "name": "ipython",
    "version": 3
   },
   "file_extension": ".py",
   "mimetype": "text/x-python",
   "name": "python",
   "nbconvert_exporter": "python",
   "pygments_lexer": "ipython3",
   "version": "3.8.8"
  }
 },
 "nbformat": 4,
 "nbformat_minor": 1
}
