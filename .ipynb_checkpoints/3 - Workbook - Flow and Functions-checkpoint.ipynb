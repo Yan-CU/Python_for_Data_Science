{
 "cells": [
  {
   "cell_type": "markdown",
   "metadata": {},
   "source": [
    "#### COMPANION WORKBOOK\n",
    "\n",
    "# Flow and Functions\n",
    "\n",
    "To make the most out of this program, we strongly recommend you to:\n",
    "1. First practice writing and implementing all of the code from Coding Section of the online module.\n",
    "2. Then, freely experiment with and explore any interesting or confusing concepts. Simply insert new code cells and then use the help of Google and official documentation.\n",
    "3. Finally, tackle all of the exercises at the end. They will help you tie everything together and **learn in context.**\n",
    "\n",
    "#### <span style=\"color:#555\">MODULE CODE SANDBOX</span>\n",
    "\n",
    "Use this space to practice writing and implementing all of the code from Coding Section of the online module. Insert new code cells as needed, and feel free to write notes to yourself in Markdown."
   ]
  },
  {
   "cell_type": "markdown",
   "metadata": {},
   "source": [
    "## I. IF statements allow conditional logic."
   ]
  },
  {
   "cell_type": "code",
   "execution_count": null,
   "metadata": {},
   "outputs": [],
   "source": []
  },
  {
   "cell_type": "code",
   "execution_count": null,
   "metadata": {},
   "outputs": [],
   "source": []
  },
  {
   "cell_type": "code",
   "execution_count": null,
   "metadata": {},
   "outputs": [],
   "source": []
  },
  {
   "cell_type": "markdown",
   "metadata": {},
   "source": [
    "## II. FOR loops allow iteration."
   ]
  },
  {
   "cell_type": "code",
   "execution_count": null,
   "metadata": {},
   "outputs": [],
   "source": []
  },
  {
   "cell_type": "code",
   "execution_count": null,
   "metadata": {},
   "outputs": [],
   "source": []
  },
  {
   "cell_type": "code",
   "execution_count": null,
   "metadata": {},
   "outputs": [],
   "source": []
  },
  {
   "cell_type": "markdown",
   "metadata": {},
   "source": [
    "## III. List comprehensions help construct new lists elegantly."
   ]
  },
  {
   "cell_type": "code",
   "execution_count": 1,
   "metadata": {},
   "outputs": [
    {
     "name": "stdout",
     "output_type": "stream",
     "text": [
      "[0, 1, 4, 9, 16, 25, 36, 49, 64, 81]\n"
     ]
    }
   ],
   "source": [
    "# Construct list of the squares in range_list using list comprehension\n",
    "squares_list = [number**2 for number in range(10)]\n",
    "\n",
    "print( squares_list )"
   ]
  },
  {
   "cell_type": "markdown",
   "metadata": {},
   "source": [
    "Let's break that down.\n",
    "\n",
    "- Every list comprehension has a for loop.\n",
    "- They also have an output. In this case, it's the squared number in the list.\n",
    "- Finally, they are surrounded by list brackets.\n",
    "\n",
    "**You can even include conditional logic in list comprehensions.** Simply add the if statement at the end, like so:"
   ]
  },
  {
   "cell_type": "code",
   "execution_count": 2,
   "metadata": {},
   "outputs": [
    {
     "name": "stdout",
     "output_type": "stream",
     "text": [
      "[0, 4, 16, 36, 64]\n"
     ]
    }
   ],
   "source": [
    "squares_list = [number**2 for number in range(10) if number%2 == 0]\n",
    "print( squares_list )"
   ]
  },
  {
   "cell_type": "markdown",
   "metadata": {},
   "source": [
    "## IV. Functions are blocks of reusable, modular code."
   ]
  },
  {
   "cell_type": "code",
   "execution_count": null,
   "metadata": {},
   "outputs": [],
   "source": []
  },
  {
   "cell_type": "code",
   "execution_count": null,
   "metadata": {},
   "outputs": [],
   "source": []
  },
  {
   "cell_type": "code",
   "execution_count": null,
   "metadata": {},
   "outputs": [],
   "source": []
  },
  {
   "cell_type": "markdown",
   "metadata": {},
   "source": [
    "#### <span style=\"color:#555\">EXERCISES</span>\n",
    "\n",
    "Complete each of the following exercises.\n",
    "\n",
    "## <span style=\"color:RoyalBlue\">Exercise 3.1 - Optimal Start</span>\n",
    "\n",
    "#### In the previous module...\n",
    "\n",
    "In the previous module, you created a location dictionary for the boroughs we're interested in visting. Now we're ready to pick a location to start with.\n",
    "\n",
    "#### A.) First, let's import <code style=\"color:steelblue\">location_dict</code> again using <code style=\"color:steelblue\">pickle</code>. Run this cell."
   ]
  },
  {
   "cell_type": "code",
   "execution_count": 3,
   "metadata": {},
   "outputs": [],
   "source": [
    "import pickle\n",
    "\n",
    "# Read object from disk\n",
    "with open('location_dict.pkl', 'rb') as f:\n",
    "    location_dict = pickle.load(f)"
   ]
  },
  {
   "cell_type": "markdown",
   "metadata": {},
   "source": [
    "Now we have the <code style=\"color:steelblue\">location_dict</code> object again, but what if we forgot which keys are in the dictionary? \n",
    "\n",
    "#### B.) Print the keys in <code style=\"color:steelblue\">location_dict</code>."
   ]
  },
  {
   "cell_type": "code",
   "execution_count": 4,
   "metadata": {},
   "outputs": [
    {
     "name": "stdout",
     "output_type": "stream",
     "text": [
      "dict_keys(['Brent', 'Camden', 'Redbridge', 'Southwark', 'Inner London', 'Outer London'])\n"
     ]
    }
   ],
   "source": [
    "# Print the keys in location_dict\n",
    "\n",
    "print(location_dict.keys())"
   ]
  },
  {
   "cell_type": "markdown",
   "metadata": {},
   "source": [
    "<strong style=\"color:RoyalBlue\">Expected output:</strong>\n",
    "\n",
    "<pre>dict_keys(['Southwark', 'Redbridge', 'Outer London', 'Inner London', 'Camden', 'Brent'])</pre>"
   ]
  },
  {
   "cell_type": "markdown",
   "metadata": {},
   "source": [
    "Ah, yes... Now, we need to choose between starting with <code style=\"color:steelblue\">'Outer London'</code> or with <code style=\"color:steelblue\">'Inner London'</code>. We should start with the list with more locations, so let's find which one it is.\n",
    "\n",
    "#### C.) Write code, using <code style=\"color:steelblue\">if</code> statements, that does the following:\n",
    "* **If** our Inner London list has more locations than our Outer London list, print the message:\n",
    "\n",
    "\n",
    "<pre style=\"color:steelblue\">I want to start in Inner London.</pre>\n",
    "\n",
    "\n",
    "* **Else** if our Outer London list has more locations than our Inner London list, print the message:\n",
    "\n",
    "    \n",
    "<pre style=\"color:steelblue\">I want to start in Outer London.</pre>\n",
    "\n",
    "\n",
    "* **Else** (i.e. they have the same number of locations), print the message:\n",
    "\n",
    "\n",
    "<pre style=\"color:steelblue\">Either is fine. I'll flip a coin.</pre>\n",
    "\n"
   ]
  },
  {
   "cell_type": "code",
   "execution_count": 5,
   "metadata": {},
   "outputs": [],
   "source": [
    "if location_dict['Inner London'] > location_dict['Outer London']:\n",
    "    print('I want to start in Inner London.')\n",
    "elif location_dict['Inner London'] < location_dict['Outer London']:\n",
    "    print('I want to start in Outer London.')\n",
    "elif location_dict['Inner London'] == location_dict['Outer London']:\n",
    "    print('Either is fine. I\\'ll flip a coin.')"
   ]
  },
  {
   "cell_type": "markdown",
   "metadata": {},
   "source": [
    "## <span style=\"color:RoyalBlue\">Exercise 3.2 - Judging a Location by Its Cover</span>\n",
    "\n",
    "In the previous exercise, we said that we wanted to start with the list with the most locations.\n",
    "* We already knew that it would be either Inner London or Outer London because those lists are combinations of 2 of the others.\n",
    "* However, what if we didn't know that?\n",
    "\n",
    "#### A.) For each key in <code style=\"color:steelblue\">location_dict</code>, print the number of locations in its list, like so:\n",
    "\n",
    "<pre style=\"color:steelblue\">\n",
    "Southwalk has 13 locations.\n",
    "Redbridge has ...\n",
    "</pre> \n",
    "\n",
    "* **Tip:** You can iterate through keys and values of a dictionary at the same time using <code style=\"color:steelblue\">.items()</code>, like so:\n",
    "\n",
    "<pre style=\"color:#bbb\">\n",
    "for <strong style=\"color:steelblue\">key, value</strong> in location_dict<strong style=\"color:steelblue\">.items()</strong>:\n",
    "    <span style=\"color:dimgray\"># code block</span>\n",
    "</pre>      \n",
    "        \n",
    "* **Tip:** Remember, to insert multiple dynamic values into a string, you can just add more places to <code style=\"color:steelblue\">.format()</code>, like so:\n",
    "\n",
    "<pre style=\"color:#bbb\">\n",
    "'<strong style=\"color:steelblue\">{}</strong> has <strong style=\"color:steelblue\">{}</strong> locations.'.format(<strong style=\"color:steelblue\">first_value, second_value</strong>)\n",
    "</pre>"
   ]
  },
  {
   "cell_type": "code",
   "execution_count": 6,
   "metadata": {},
   "outputs": [
    {
     "name": "stdout",
     "output_type": "stream",
     "text": [
      "Brent has 19 locations.\n",
      "Camden has 19 locations.\n",
      "Redbridge has 16 locations.\n",
      "Southwark has 13 locations.\n",
      "Inner London has 32 locations.\n",
      "Outer London has 35 locations.\n"
     ]
    }
   ],
   "source": [
    "# For each key in location_dict, print the number of locations in its list\n",
    "for key, value in location_dict.items():\n",
    "    print('{} has {} locations.'.format(key, len(value)))\n"
   ]
  },
  {
   "cell_type": "markdown",
   "metadata": {},
   "source": [
    "<strong style=\"color:RoyalBlue\">Expected output:</strong>\n",
    "\n",
    "<pre>\n",
    "Southwark has 13 locations.\n",
    "Redbridge has 16 locations.\n",
    "Outer London has 35 locations.\n",
    "Inner London has 32 locations.\n",
    "Camden has 19 locations.\n",
    "Brent has 19 locations.\n",
    "</pre>"
   ]
  },
  {
   "cell_type": "markdown",
   "metadata": {},
   "source": [
    "Next, we're going into introduce two simple concepts: <code>in</code> and <code>any()</code>.\n",
    "\n",
    "\n",
    "When used as an \"operator,\" <code>in</code> checks if one object is \"in\" another object. This behaves differently for different object types. For example, you can check to see if a **string** is in another **string**. You can also check to see if a specific object is a member of a **list**. Try it out yourself!\n",
    "\n",
    "Note that this is NOT the same use case as the **in keyword** from a **for loop iterable**. Instead, in this context, \"A in B\" translates to \"does B contain A?\"\n",
    "\n",
    "#### B.) First, select the first 5 *Inner London* locations and save them in a separate list. Display the 5 location names."
   ]
  },
  {
   "cell_type": "code",
   "execution_count": 7,
   "metadata": {},
   "outputs": [
    {
     "name": "stdout",
     "output_type": "stream",
     "text": [
      "['Camberwell', 'East Dulwich', 'Holborn', 'Somerstown', 'Dartmouth Park']\n"
     ]
    }
   ],
   "source": [
    "# 如何终止for循环？在for循环内部加上一个if判断\n",
    "\n",
    "five_inner_london = []\n",
    "\n",
    "for loc in location_dict['Inner London']:\n",
    "    if len(five_inner_london) < 5:\n",
    "        five_inner_london.append(loc)\n",
    "#         print(five_inner_london)\n",
    "        \n",
    "print(five_inner_london)"
   ]
  },
  {
   "cell_type": "markdown",
   "metadata": {},
   "source": [
    "#### C.) Next, check the following:\n",
    "* Is <code>'Primrose Hill'</code> in <code>location_dict['Outer London']</code>?\n",
    "* Is <code>'Primrose Hill'</code> in <code>location_dict['Inner London']</code>?\n",
    "* Is the substring <code>'Primrose'</code> in the string <code>'Primrose Hill'</code>?\n",
    "* Do all of the outputs make sense to you?"
   ]
  },
  {
   "cell_type": "code",
   "execution_count": 8,
   "metadata": {
    "scrolled": true
   },
   "outputs": [
    {
     "name": "stdout",
     "output_type": "stream",
     "text": [
      "False\n",
      "True\n",
      "True\n"
     ]
    }
   ],
   "source": [
    "print('Primrose Hill' in location_dict['Outer London'])\n",
    "print('Primrose Hill' in location_dict['Inner London'])\n",
    "print('Primrose' in 'Primrose Hill')"
   ]
  },
  {
   "cell_type": "markdown",
   "metadata": {},
   "source": [
    "<strong style=\"color:RoyalBlue\">Expected output:</strong>\n",
    "\n",
    "<pre>\n",
    "False\n",
    "True\n",
    "True\n",
    "</pre>"
   ]
  },
  {
   "cell_type": "markdown",
   "metadata": {},
   "source": [
    "The Python built-in function <code>any()</code> checks if any of the values in a list-like object are true. To illustrate this, let's first combine <code>in</code> with a **list comprehension** to confirm that none of our sampled Inner London locations are in Outer London.\n",
    "\n",
    "#### D.) Use a list comprehension to confirm that none of our sampled Inner London locations are in Outer London.\n",
    "* Use the sampled list of 5 locations from (B).\n",
    "* By using <code>in</code>, you should be able to create a new list of booleans.\n",
    "* Display the new list of booleans."
   ]
  },
  {
   "cell_type": "code",
   "execution_count": 9,
   "metadata": {},
   "outputs": [
    {
     "name": "stdout",
     "output_type": "stream",
     "text": [
      "['Camberwell', 'East Dulwich', 'Holborn', 'Somerstown', 'Dartmouth Park']\n",
      "[False, False, False, False, False]\n"
     ]
    }
   ],
   "source": [
    "print(five_inner_london)\n",
    "\n",
    "## 方法1: 没有用list comprehension，用了for循环\n",
    "# l = []\n",
    "# for loc in five_inner_london:\n",
    "#     l.append(bool(loc in location_dict['Outer London']))\n",
    "\n",
    "\n",
    "## 方法2: 使用list comprehension，注意可以用if... else...\n",
    "l4 = [True if loc in location_dict['Outer London'] else False for loc in five_inner_london]\n",
    "print(l4)\n",
    "\n",
    "\n",
    "# # 不成功的尝试1: l中没有元素，因为five_inner_london中的所有元素都不在location_dict['Outer London']中，真假值为假\n",
    "# l = [loc for loc in five_inner_london if loc in location_dict['Outer London']]\n",
    "# print(l)\n",
    "# print(bool(l))\n",
    "\n",
    "\n",
    "# # 不成功的尝试2:跟上面类似，any()判断括号内的真假\n",
    "# l2 = [any(loc for loc in five_inner_london if loc in location_dict['Outer London'])]\n",
    "# print(l2)\n",
    "\n",
    "\n",
    "# # 不成功的尝试3: 跟上面类似\n",
    "# l3 = [bool(loc in location_dict['Outer London']) for loc in five_inner_london if loc in location_dict['Outer London']]\n",
    "# print(l3)"
   ]
  },
  {
   "cell_type": "markdown",
   "metadata": {},
   "source": [
    "<strong style=\"color:RoyalBlue\">Expected output:</strong>\n",
    "\n",
    "<pre>\n",
    "[False, False, False, False, False]\n",
    "</pre>"
   ]
  },
  {
   "cell_type": "markdown",
   "metadata": {},
   "source": [
    "#### E.) Now check if <code>any()</code> of our sampled Inner London locations are in Outer London.\n",
    "* Your output should be a single Boolean.\n",
    "* Just for illustrative purposes, create another list with those 5 sampled Inner London locations plus 'Wembley Park' (which is in Outer London). Run your <code>any()</code> check again."
   ]
  },
  {
   "cell_type": "code",
   "execution_count": 10,
   "metadata": {},
   "outputs": [
    {
     "name": "stdout",
     "output_type": "stream",
     "text": [
      "False\n"
     ]
    }
   ],
   "source": [
    "# Check if any sampled Inner London locations are in Outer London\n",
    "print(any(loc for loc in five_inner_london if loc in location_dict['Outer London']))\n"
   ]
  },
  {
   "cell_type": "markdown",
   "metadata": {},
   "source": [
    "<strong style=\"color:RoyalBlue\">Expected output:</strong>\n",
    "\n",
    "<pre>\n",
    "False\n",
    "</pre>"
   ]
  },
  {
   "cell_type": "code",
   "execution_count": 11,
   "metadata": {},
   "outputs": [
    {
     "name": "stdout",
     "output_type": "stream",
     "text": [
      "['Wembley Park']\n",
      "True\n"
     ]
    }
   ],
   "source": [
    "# Check sampled Inner London locations PLUS Wembley Park\n",
    "five_inner_london = ['Bermondsey', 'Bloomsbury', 'Somerstown', 'Newington', 'Holborn']\n",
    "five_inner_london.append('Wembley Park')\n",
    "\n",
    "# 找到交集，存入list\n",
    "l5 = [loc for loc in five_inner_london if loc in location_dict['Outer London']]\n",
    "print(l5)\n",
    "\n",
    "# 判断真假\n",
    "print(any(loc for loc in five_inner_london if loc in location_dict['Outer London']))\n"
   ]
  },
  {
   "cell_type": "markdown",
   "metadata": {},
   "source": [
    "<strong style=\"color:RoyalBlue\">Expected output:</strong>\n",
    "\n",
    "<pre>\n",
    "True\n",
    "</pre>"
   ]
  },
  {
   "cell_type": "markdown",
   "metadata": {},
   "source": [
    "Now that we have <code>in</code> and <code>any()</code>, we have everything we need to \"judge a location by its cover.\" Let's wrap up this exercise.\n",
    "\n",
    "#### F.) Give each location in Outer London a first impression based on its name. Combine <code style=\"color:steelblue\">if</code> and <code style=\"color:steelblue\">for</code> statements. For each location in Outer London...\n",
    "* **If** its name has <code style=\"color:steelblue\">'Farm'</code>, <code style=\"color:steelblue\">'Park'</code>, <code style=\"color:steelblue\">'Hill'</code>, or <code style=\"color:steelblue\">'Green'</code> in it, print:\n",
    "\n",
    "<pre style=\"color:steelblue\">{<strong>name</strong>} sounds pleasant.</pre>\n",
    "\n",
    "* **Else If** its name has <code style=\"color:steelblue\">'Royal'</code>, <code style=\"color:steelblue\">'Queen'</code>, or <code style=\"color:steelblue\">'King'</code> in it, print:\n",
    "\n",
    "<pre style=\"color:steelblue\">{<strong>name</strong>} sounds grand.</pre>\n",
    "    \n",
    "* If its name doesn't sound pleasant or grand, just ignore it.\n",
    "* **Tip:** If you want to check if any word from a list is found in a string, you can use <code style=\"color:steelblue\">any()</code>, like so:\n",
    "\n",
    "<pre style=\"color:steelblue\">\n",
    "any( word in name for word in <strong>list_of_words</strong> )\n",
    "</pre>"
   ]
  },
  {
   "cell_type": "code",
   "execution_count": 12,
   "metadata": {},
   "outputs": [
    {
     "name": "stdout",
     "output_type": "stream",
     "text": [
      "Kensal Green sounds pleasant.\n",
      "Park Royal sounds pleasant.\n",
      "Brent Park sounds pleasant.\n",
      "Queen's Park sounds pleasant.\n",
      "Wembley Park sounds pleasant.\n",
      "Dollis Hill sounds pleasant.\n",
      "Gants Hill sounds pleasant.\n",
      "Newbury Park sounds pleasant.\n",
      "Kingsbury sounds grand.\n",
      "Woodford Green sounds pleasant.\n",
      "Seven Kings sounds grand.\n"
     ]
    }
   ],
   "source": [
    "pleasant_sounding = ['Farm', 'Park', 'Hill', 'Green']\n",
    "royal_sounding = ['Royal', 'Queen', 'King']\n",
    "\n",
    "# Print first impression of each location in Outer London based on its names\n",
    "for name in location_dict['Outer London']:\n",
    "#     print(any(word for word in pleasant_sounding if word in name))\n",
    "    if any(word for word in pleasant_sounding if word in name) == True:\n",
    "        print('{} sounds pleasant.'.format(name))\n",
    "    elif any(word for word in royal_sounding if word in name) == True:\n",
    "        print('{} sounds grand.'.format(name))"
   ]
  },
  {
   "cell_type": "markdown",
   "metadata": {},
   "source": [
    "<strong style=\"color:RoyalBlue\">Expected output:</strong>\n",
    "\n",
    "<pre>\n",
    "Brent Park sounds pleasant.\n",
    "Dollis Hill sounds pleasant.\n",
    "Kensal Green sounds pleasant.\n",
    "Kingsbury sounds grand.\n",
    "Queen's Park sounds pleasant.\n",
    "Wembley Park sounds pleasant.\n",
    "Park Royal sounds pleasant.\n",
    "Seven Kings sounds grand.\n",
    "Gants Hill sounds pleasant.\n",
    "Woodford Green sounds pleasant.\n",
    "Newbury Park sounds pleasant.\n",
    "</pre>"
   ]
  },
  {
   "cell_type": "markdown",
   "metadata": {},
   "source": [
    "## <span style=\"color:RoyalBlue\">Exercise 3.3 - Pleasant Comprehensions</span>\n",
    "\n",
    "#### A.) Using a list comprehension, create a new list called <code style=\"color:steelblue\">pleasant_locations</code>.\n",
    "* It should contain locations in Outer London that are <code style=\"color:steelblue\">pleasant_sounding</code>.\n",
    "* Then print the list.\n",
    "* **Tip:** To check if any word from a list is found in a string, you can use <code style=\"color:steelblue\">any()</code>. See <span style=\"color:RoyalBlue\">Exercise 3.2</span> if you need a reminder."
   ]
  },
  {
   "cell_type": "code",
   "execution_count": 13,
   "metadata": {},
   "outputs": [
    {
     "name": "stdout",
     "output_type": "stream",
     "text": [
      "['Kensal Green', 'Park Royal', 'Brent Park', \"Queen's Park\", 'Wembley Park', 'Dollis Hill', 'Gants Hill', 'Newbury Park', 'Woodford Green']\n"
     ]
    }
   ],
   "source": [
    "# Create pleasant_locations list using a list comprehension\n",
    "\n",
    "# print(location_dict['Outer London'])\n",
    "\n",
    "# 如果一个名字里有pleasant_sounding里出现的string，把这个名字存进 新的list，打印这个list\n",
    "pleasant_location = [\n",
    "    name for name in location_dict['Outer London'] if any(word in name for word in pleasant_sounding)\n",
    "]\n",
    "\n",
    "# Print the pleasant-sounding locations\n",
    "print(pleasant_location)\n"
   ]
  },
  {
   "cell_type": "markdown",
   "metadata": {},
   "source": [
    "<strong style=\"color:RoyalBlue\">Expected output:</strong>\n",
    "\n",
    "<pre>\n",
    "['Brent Park', 'Dollis Hill', 'Kensal Green', \"Queen's Park\", 'Wembley Park', 'Park Royal', 'Gants Hill', 'Woodford Green', 'Newbury Park']\n",
    "</pre>"
   ]
  },
  {
   "cell_type": "markdown",
   "metadata": {},
   "source": [
    "#### B.) Print the number pleasant-sounding locations we have."
   ]
  },
  {
   "cell_type": "code",
   "execution_count": 14,
   "metadata": {
    "scrolled": true
   },
   "outputs": [
    {
     "name": "stdout",
     "output_type": "stream",
     "text": [
      "9\n"
     ]
    }
   ],
   "source": [
    "# Print number of pleasant-sounding locations\n",
    "print(len(pleasant_location))"
   ]
  },
  {
   "cell_type": "markdown",
   "metadata": {},
   "source": [
    "<strong style=\"color:RoyalBlue\">Expected output:</strong>\n",
    "\n",
    "<pre>\n",
    "9\n",
    "</pre>"
   ]
  },
  {
   "cell_type": "markdown",
   "metadata": {},
   "source": [
    "## <span style=\"color:RoyalBlue\">Exercise 3.4 - Functional Filters</span>\n",
    "\n",
    "For the final exercise of this module, we're going to practice writing functions.\n",
    "\n",
    "#### A.) Write a function called <code style=\"color:steelblue\">filter_locations</code> that takes two arguments:\n",
    "1. <code style=\"color:steelblue\">location_list</code>\n",
    "2. <code style=\"color:steelblue\">words_list</code>\n",
    "\n",
    "The function should return the list of names in <code style=\"color:steelblue\">location_list</code> that have any word in <code style=\"color:steelblue\">words_list</code>.\n",
    "* **Tip:** For help with the code block, see your answer in <span style=\"color:RoyalBlue\">Exercise 3.3</span>."
   ]
  },
  {
   "cell_type": "code",
   "execution_count": 15,
   "metadata": {},
   "outputs": [],
   "source": [
    "def filter_locations(location_list, words_list):\n",
    "    # 返回：location_list中凡是名字里有words_list中的词的名字\n",
    "    list1 = [\n",
    "    name for name in location_list if any(word in name for word in words_list)\n",
    "    ]\n",
    "    return(list1)"
   ]
  },
  {
   "cell_type": "markdown",
   "metadata": {},
   "source": [
    "Next, let's test that function. \n",
    "\n",
    "#### B.) Create a new <code style=\"color:steelblue\">pleasant_locations</code> list using the function you just wrote.\n",
    "* Pass in the list of Outer London locations and the list of pleasant-sounding words.\n",
    "* You should get the same locations that you got in <span style=\"color:RoyalBlue\">Exercise 3.3</span>.\n",
    "* Print the new list."
   ]
  },
  {
   "cell_type": "code",
   "execution_count": 16,
   "metadata": {},
   "outputs": [
    {
     "name": "stdout",
     "output_type": "stream",
     "text": [
      "['Kensal Green', 'Park Royal', 'Brent Park', \"Queen's Park\", 'Wembley Park', 'Dollis Hill', 'Gants Hill', 'Newbury Park', 'Woodford Green']\n"
     ]
    }
   ],
   "source": [
    "# Create pleasant_locations using filter_locations()\n",
    "pleasant_locations = filter_locations(location_dict['Outer London'],pleasant_sounding)\n",
    "\n",
    "# Print list of pleasant-sounding locations\n",
    "print(pleasant_locations)\n"
   ]
  },
  {
   "cell_type": "markdown",
   "metadata": {},
   "source": [
    "<strong style=\"color:RoyalBlue\">Expected output:</strong>\n",
    "\n",
    "<pre>\n",
    "['Brent Park', 'Dollis Hill', 'Kensal Green', \"Queen's Park\", 'Wembley Park', 'Park Royal', 'Gants Hill', 'Woodford Green', 'Newbury Park']\n",
    "</pre>"
   ]
  },
  {
   "cell_type": "markdown",
   "metadata": {},
   "source": [
    "#### C.) Next, let's use this handy function to create a <code style=\"color:steelblue\">grand_locations</code> list for locations that sound grand.\n",
    "* Pass in the list of Outer London locations and the list of grand-sounding words.\n",
    "* Print the new list and confirm the expected output"
   ]
  },
  {
   "cell_type": "code",
   "execution_count": 17,
   "metadata": {},
   "outputs": [
    {
     "name": "stdout",
     "output_type": "stream",
     "text": [
      "['Park Royal', \"Queen's Park\", 'Kingsbury', 'Seven Kings']\n"
     ]
    }
   ],
   "source": [
    "# Create grand_locations using filter_locations()\n",
    "grand_locations = filter_locations(location_dict['Outer London'], royal_sounding)\n",
    "\n",
    "# Print list of grand-sounding locations\n",
    "print(grand_locations)\n"
   ]
  },
  {
   "cell_type": "markdown",
   "metadata": {},
   "source": [
    "<strong style=\"color:RoyalBlue\">Expected output:</strong>\n",
    "\n",
    "<pre>\n",
    "['Kingsbury', \"Queen's Park\", 'Park Royal', 'Seven Kings']\n",
    "</pre>"
   ]
  },
  {
   "cell_type": "markdown",
   "metadata": {},
   "source": [
    "Awesome, are there any locations in both lists?\n",
    "\n",
    "#### D.) Display the locations in both the <code style=\"color:steelblue\">pleasant_locations</code> and <code style=\"color:steelblue\">grand_locations</code> lists.\n",
    "* You can compare these lists manually because they are short, but try using <code style=\"color:steelblue\">sets</code> and the <code style=\"color:steelblue\">.intersection()</code> function (or <code style=\"color:steelblue\">&</code> operator)!"
   ]
  },
  {
   "cell_type": "code",
   "execution_count": 18,
   "metadata": {},
   "outputs": [
    {
     "data": {
      "text/plain": [
       "{'Park Royal', \"Queen's Park\"}"
      ]
     },
     "execution_count": 18,
     "metadata": {},
     "output_type": "execute_result"
    }
   ],
   "source": [
    "# Display locations that sound pleasant and grand\n",
    "pleasant_locations_set = set(pleasant_locations)\n",
    "grand_locations_set = set(grand_locations)\n",
    "pleasant_locations_set.intersection(grand_locations_set)\n"
   ]
  },
  {
   "cell_type": "markdown",
   "metadata": {},
   "source": [
    "<strong style=\"color:RoyalBlue\">Expected output:</strong>\n",
    "\n",
    "<pre>\n",
    "{'Park Royal', \"Queen's Park\"}\n",
    "</pre>"
   ]
  },
  {
   "cell_type": "markdown",
   "metadata": {},
   "source": [
    "Great, we'll start with these for our visit. As a side note, notice how Python automatically used double quotes to enclose <code>\"Queen's Park\"</code> so that you don't have to worry about escaping the apostrophe.\n",
    "\n",
    "#### The mission continues in the next module...\n",
    "\n",
    "In this module, we filtered our lists of locations down to two: Park Royal and Queen's Park. In the next module, we'll visit Park Royal and talk with some local businesses there.*"
   ]
  }
 ],
 "metadata": {
  "anaconda-cloud": {},
  "kernelspec": {
   "display_name": "Python 3",
   "language": "python",
   "name": "python3"
  },
  "language_info": {
   "codemirror_mode": {
    "name": "ipython",
    "version": 3
   },
   "file_extension": ".py",
   "mimetype": "text/x-python",
   "name": "python",
   "nbconvert_exporter": "python",
   "pygments_lexer": "ipython3",
   "version": "3.8.8"
  }
 },
 "nbformat": 4,
 "nbformat_minor": 1
}
