{
 "cells": [
  {
   "cell_type": "markdown",
   "metadata": {},
   "source": [
    "#### COMPANION WORKBOOK\n",
    "\n",
    "# Python Basics\n",
    "\n",
    "To make the most out of this program, we strongly recommend you to:\n",
    "1. First practice writing and implementing all of the code from Coding Section of the online module.\n",
    "2. Then, freely experiment with and explore any interesting or confusing concepts. Simply insert new code cells and then use the help of Google and official documentation.\n",
    "3. Finally, tackle all of the exercises at the end. They will help you tie everything together and **learn in context.**\n",
    "\n",
    "#### <span style=\"color:#555\">MODULE CODE SANDBOX</span>\n",
    "\n",
    "Use this space to practice writing and implementing all of the code from Coding Section of the online module. Insert new code cells as needed, and feel free to write notes to yourself in Markdown."
   ]
  },
  {
   "cell_type": "markdown",
   "metadata": {},
   "source": [
    "## I. Python can be used for calculations."
   ]
  },
  {
   "cell_type": "code",
   "execution_count": 1,
   "metadata": {},
   "outputs": [
    {
     "data": {
      "text/plain": [
       "'22'"
      ]
     },
     "execution_count": 1,
     "metadata": {},
     "output_type": "execute_result"
    }
   ],
   "source": [
    "'2'+'2'"
   ]
  },
  {
   "cell_type": "code",
   "execution_count": 2,
   "metadata": {},
   "outputs": [
    {
     "name": "stdout",
     "output_type": "stream",
     "text": [
      "<class 'str'>\n",
      "<class 'int'>\n"
     ]
    }
   ],
   "source": [
    "print(type('2'))\n",
    "print(type(2))"
   ]
  },
  {
   "cell_type": "code",
   "execution_count": 3,
   "metadata": {},
   "outputs": [
    {
     "name": "stdout",
     "output_type": "stream",
     "text": [
      "<class 'bool'>\n"
     ]
    }
   ],
   "source": [
    "print(type(5<3))"
   ]
  },
  {
   "cell_type": "markdown",
   "metadata": {},
   "source": [
    "## II. Floats are numeric objects that allow more precision."
   ]
  },
  {
   "cell_type": "code",
   "execution_count": 5,
   "metadata": {},
   "outputs": [
    {
     "name": "stdout",
     "output_type": "stream",
     "text": [
      "5\n",
      "6\n",
      "6\n"
     ]
    }
   ],
   "source": [
    "print( int(5.9999) )\n",
    "print( round(5.9999) )\n",
    "print( int(round(5.9999)) )"
   ]
  },
  {
   "cell_type": "code",
   "execution_count": 6,
   "metadata": {},
   "outputs": [
    {
     "name": "stdout",
     "output_type": "stream",
     "text": [
      "10.0 <class 'float'>\n",
      "6.5 <class 'float'>\n"
     ]
    }
   ],
   "source": [
    "print( 4 * 2.5, type(4 * 2.5) )\n",
    "print( 4 + 2.5, type(4 + 2.5) )"
   ]
  },
  {
   "cell_type": "code",
   "execution_count": 7,
   "metadata": {},
   "outputs": [
    {
     "name": "stdout",
     "output_type": "stream",
     "text": [
      "1.5\n",
      "1.5\n"
     ]
    }
   ],
   "source": [
    "print( 3/2 )\n",
    "print( 3/2.)"
   ]
  },
  {
   "cell_type": "markdown",
   "metadata": {},
   "source": [
    "## III. Strings are text objects enclosed by quotes."
   ]
  },
  {
   "cell_type": "code",
   "execution_count": null,
   "metadata": {},
   "outputs": [],
   "source": [
    "print( '992 + 345' == \"992 + 345\" ) # Single quotes and double quotes are equal\n",
    "print( '992 + 345' != 992 + 345 ) # Strings and numbers are not equal"
   ]
  },
  {
   "cell_type": "markdown",
   "metadata": {},
   "source": [
    "**You might need to \"escape\" actual quotes or apostrophes within a string.**\n",
    "- If there's an **apostrophe** in the text, you can use double quotes to enclose the string itself, and the apostrophe can exist naturally.\n",
    "- However, if you use single quotes to enclose a string when there's an apostrophe in the text, you'll need to **escape** it with a backslash. This is to prevent Python from interpreting the apostophe itself as the end of the string.\n"
   ]
  },
  {
   "cell_type": "code",
   "execution_count": null,
   "metadata": {},
   "outputs": [],
   "source": [
    " # Double quotes version... the apostrophe can exist naturally\n",
    "print( \"It'sa me... Mario!\" )\n",
    "\n",
    " # Single quotes version... the apostrophe must be escaped with a backslash\n",
    "print( 'It\\'sa me... Mario!' )"
   ]
  },
  {
   "cell_type": "markdown",
   "metadata": {},
   "source": [
    "- Or, if there's an **actual quote** in the text, you can use single quotes to enclose the string itself, and the actual quote can exist naturally.\n",
    "- However, if you use double quotes to enclose the string when there's an actual quote in the text, you'll need to **escape** the quotation marks with backslashes."
   ]
  },
  {
   "cell_type": "code",
   "execution_count": null,
   "metadata": {},
   "outputs": [],
   "source": [
    " # Single quotes version... the quotes can exist naturally\n",
    "print( 'She said, \"Hello, world.\"' )\n",
    "\n",
    " # Double quotes version... the quotes must be escaped with backslashes\n",
    "print( \"She said, \\\"Hello, world.\\\"\" )"
   ]
  },
  {
   "cell_type": "markdown",
   "metadata": {},
   "source": [
    "## IV. Variables store values and keep your code organized."
   ]
  },
  {
   "cell_type": "code",
   "execution_count": null,
   "metadata": {},
   "outputs": [],
   "source": []
  },
  {
   "cell_type": "code",
   "execution_count": null,
   "metadata": {},
   "outputs": [],
   "source": []
  },
  {
   "cell_type": "code",
   "execution_count": null,
   "metadata": {},
   "outputs": [],
   "source": []
  },
  {
   "cell_type": "markdown",
   "metadata": {},
   "source": [
    "#### <span style=\"color:#555\">EXERCISES</span>\n",
    "\n",
    "Complete each of the following exercises.\n",
    "\n",
    "\n",
    "## <span style=\"color:RoyalBlue\"> Exercise 1.1 - Python as a Calculator</span>\n",
    "\n",
    "#### A.) A right triangle has a hypotenuse of length 17, and one of its legs has length 8. Calculate the length of the other leg using one line of Python code.\n",
    "* Tip: <a href=\"https://en.wikipedia.org/wiki/Pythagorean_theorem\" target=\"_blank\">Pythagorean Theorem</a>"
   ]
  },
  {
   "cell_type": "code",
   "execution_count": 11,
   "metadata": {
    "scrolled": true
   },
   "outputs": [
    {
     "name": "stdout",
     "output_type": "stream",
     "text": [
      "289\n",
      "15.0\n",
      "289\n"
     ]
    }
   ],
   "source": [
    "hyp =17\n",
    "leg1 = 8\n",
    "hyp**2\n",
    "print(17**2)\n",
    "leg2 = (hyp**2-leg1**2)**(1/2)\n",
    "print(leg2)\n",
    "\n",
    "# Check:\n",
    "print(15**2 + 8**2)"
   ]
  },
  {
   "cell_type": "markdown",
   "metadata": {},
   "source": [
    "#### B.) You have 5 colleagues going through this Secret Agent Bootcamp with you. If you are definitely the top student, how many total possible ways can all 6 students be ranked?\n",
    "* Hint: You have already taken rank 1. How many people are eligible for rank 2? Once rank 2 has been determined, how many eligible people remain for rank 3? Etc..."
   ]
  },
  {
   "cell_type": "code",
   "execution_count": 12,
   "metadata": {},
   "outputs": [
    {
     "name": "stdout",
     "output_type": "stream",
     "text": [
      "120\n"
     ]
    }
   ],
   "source": [
    "print(5*4*3*2)"
   ]
  },
  {
   "cell_type": "markdown",
   "metadata": {},
   "source": [
    "#### C.) Your 5 colleagues have the codenames 'Agent A', 'Agent B', 'Agent C', 'Agent D', 'Agent E' (not very creative, I know). Assuming you are ranked number 1, but your remaining colleagues are ranked completely randomly, what's the probability that the overall ranking is:\n",
    "1. You\n",
    "2. Agent C\n",
    "3. Agent A\n",
    "4. Agent D\n",
    "5. Agent E\n",
    "6. Agent B\n",
    "\n",
    "Display your answer as a percentage rounded to two decimal places, and make sure there is no extra space between the percentage number and the percentage symbol."
   ]
  },
  {
   "cell_type": "code",
   "execution_count": 33,
   "metadata": {},
   "outputs": [
    {
     "name": "stdout",
     "output_type": "stream",
     "text": [
      "0.8333333333333334 %\n",
      "0.83%\n"
     ]
    }
   ],
   "source": [
    "print(1/1.2,\"%\") #问题在于，百分号前有空格\n",
    "print (\"{0:.2%}\".format(1/120)) #双引号内，数字2代表保留两位小数。format是一个函数"
   ]
  },
  {
   "cell_type": "markdown",
   "metadata": {},
   "source": [
    "## <span style=\"color:RoyalBlue\"> Exercise 1.2 - Boolean Alter Egos</span>\n",
    "\n",
    "#### A.) Try adding a <code>True</code> boolean with a <code>False</code> boolean. What do you get?"
   ]
  },
  {
   "cell_type": "code",
   "execution_count": null,
   "metadata": {},
   "outputs": [],
   "source": []
  },
  {
   "cell_type": "markdown",
   "metadata": {},
   "source": [
    "#### B.) Try *multiplying* a <code>True</code> boolean with a <code>False</code> boolean. What do you get?"
   ]
  },
  {
   "cell_type": "code",
   "execution_count": null,
   "metadata": {
    "scrolled": true
   },
   "outputs": [],
   "source": []
  },
  {
   "cell_type": "markdown",
   "metadata": {},
   "source": [
    "#### C.) Try multiplying a <code>True</code> boolean with an arbitrary number, such as 123. What do you get?"
   ]
  },
  {
   "cell_type": "code",
   "execution_count": null,
   "metadata": {},
   "outputs": [],
   "source": []
  },
  {
   "cell_type": "markdown",
   "metadata": {},
   "source": [
    "#### D.) Try multiplying a <code>False</code> boolean with an arbitrary number, such as 123. What do you get?"
   ]
  },
  {
   "cell_type": "code",
   "execution_count": null,
   "metadata": {
    "scrolled": true
   },
   "outputs": [],
   "source": []
  },
  {
   "cell_type": "markdown",
   "metadata": {},
   "source": [
    "#### E.) What do you think the outputs above imply about how Python treats boolean values under the hood?\n",
    "* **Tip:** Keep this in the back of your mind. This idea will later."
   ]
  },
  {
   "cell_type": "markdown",
   "metadata": {},
   "source": [
    "## <span style=\"color:RoyalBlue\"> Exercise 1.3 - Training Mission Preparation</span>\n",
    "\n",
    "This is actually the start of a long series of connected exercises. These will all belong to the same **training mission**, and they will continue through the entire Python for Data Science Course.\n",
    "\n",
    "#### Here's the setting...\n",
    "\n",
    "As a new recruit, you're being sent on a training mission.\n",
    "* You will travel to different locations in London.\n",
    "* First, you will prepare for and plan the trip.\n",
    "* After you arrive at each location, you will meet with local business owners and offer your help.\n",
    "\n",
    "Simple enough, right? Let's get started.\n",
    "\n",
    "### Phase 1: Planning\n",
    "\n",
    "You're planning your mission, and HQ wants to know you if you have enough space for water.\n",
    "\n",
    "You take a look inside your bag, and this is what you brought:\n",
    "\n",
    "* You have **3** empty cylinder-shaped bottles. \n",
    "* Each bottle has a height of **16** cm and a radius of **4** cm.\n",
    "* Each bottle can be completely filled (ignore the thickness of the bottle).\n",
    "\n",
    "#### A.) First, calculate the total volume of water you can carry, in cm$^3$.\n",
    "* The formula for the volume of a cylinder is $V = \\pi r^2 h$\n",
    "* Perform your calculation in the code cell below and run the cell. If you get stuck, check the answer key for solutions."
   ]
  },
  {
   "cell_type": "code",
   "execution_count": 40,
   "metadata": {},
   "outputs": [
    {
     "name": "stdout",
     "output_type": "stream",
     "text": [
      "3.141592653589793\n",
      "2411.52\n"
     ]
    }
   ],
   "source": [
    "# Total volume of water you can carry\n",
    "import math\n",
    "\n",
    "h = 16\n",
    "r = 4\n",
    "print(math.pi) #答案傻傻的，不让我用pi的原值\n",
    "\n",
    "V = 3.14 * h* (r**2)\n",
    "print(3*V)"
   ]
  },
  {
   "cell_type": "markdown",
   "metadata": {},
   "source": [
    "**Tip:** Some (not all) exercises will include an <strong style=\"color:RoyalBlue\">expected output</strong> so you can check your results before moving on.\n",
    "\n",
    "<strong style=\"color:RoyalBlue\">Expected output:</strong>\n",
    "\n",
    "2411.52"
   ]
  },
  {
   "cell_type": "markdown",
   "metadata": {},
   "source": [
    "#### B.) HQ estimates that you'll need at least 2000 cm$^3$ for the mission. Print <code style=\"color:steelblue\">True</code> if you have enough space or <code style=\"color:steelblue\">False</code> if you do not.\n",
    "* Use the **greater-than-or-equal-to** operator."
   ]
  },
  {
   "cell_type": "code",
   "execution_count": 42,
   "metadata": {},
   "outputs": [
    {
     "name": "stdout",
     "output_type": "stream",
     "text": [
      "True\n"
     ]
    }
   ],
   "source": [
    "# Do you have space for at least 2000 cm^3\n",
    "print(3*V >= 2000)"
   ]
  },
  {
   "cell_type": "markdown",
   "metadata": {},
   "source": [
    "You already told HQ that you have enough space for water, but they didn't hear you clearly... You might need to just print them a message.\n",
    "\n",
    "#### C.) Print the message, which dynamically inserting the calculated total volume capacity from (A):\n",
    "\n",
    "<pre>Yes, I have enough space. I can carry <span style=\"color:steelblue\">total_volume</span> cm^3 of water</pre>"
   ]
  },
  {
   "cell_type": "code",
   "execution_count": 44,
   "metadata": {},
   "outputs": [
    {
     "name": "stdout",
     "output_type": "stream",
     "text": [
      "Yes, I have enough space. I can carry  2411.52  cm^3 of water\n"
     ]
    }
   ],
   "source": [
    "# Print message to HQ\n",
    "V = 3.14 * h* (r**2)\n",
    "total_volume = 3*V\n",
    "\n",
    "print(\"Yes, I have enough space. I can carry \",total_volume,\" cm^3 of water\")"
   ]
  },
  {
   "cell_type": "markdown",
   "metadata": {},
   "source": [
    "**D.) If HQ has provided you with 5000 cm$^3$ of water, what's the maximum number of bottles can you fill completely, assuming you could buy more bottles?**\n",
    "* The output should be an integer (completely full bottles)"
   ]
  },
  {
   "cell_type": "code",
   "execution_count": 45,
   "metadata": {},
   "outputs": [
    {
     "name": "stdout",
     "output_type": "stream",
     "text": [
      "6\n"
     ]
    }
   ],
   "source": [
    "# Max number of bottles you can fill completely\n",
    "print(round(5000/V))"
   ]
  },
  {
   "cell_type": "markdown",
   "metadata": {},
   "source": [
    "<strong style=\"color:RoyalBlue\">Expected output:</strong>\n",
    "\n",
    "6"
   ]
  },
  {
   "cell_type": "markdown",
   "metadata": {},
   "source": [
    "## <span style=\"color:RoyalBlue\"> Exercise 1.4 - Getting Organized with Variables</span>\n",
    "\n",
    "Repeat the calculations from <span style=\"color:RoyalBlue\">Exercise 1.3</span>, but this time use variables with descriptive names.\n",
    "\n",
    "* You have **3** empty cylinder-shaped bottles. \n",
    "* Each bottle has a height of **16** cm and a radius of **4** cm.\n",
    "* Each bottle can be completely filled (ignore the thickness of the bottle).\n",
    "* The formula for the volume of a cylinder is $V = \\pi r^2 h$\n",
    "\n",
    "#### A.) Start by setting variables with descriptive names for bottle dimensions, the number of bottles, and $\\pi$."
   ]
  },
  {
   "cell_type": "code",
   "execution_count": 47,
   "metadata": {},
   "outputs": [],
   "source": [
    "# Set variables\n",
    "number_of_bottles = 3\n",
    "pi = 3.14\n",
    "r = 4\n",
    "h = 16\n",
    "V = pi*h*r**2"
   ]
  },
  {
   "cell_type": "markdown",
   "metadata": {},
   "source": [
    "#### B.) Next, calculate the intermediary step of a single bottle's volume.\n",
    "* Set it to a new variable."
   ]
  },
  {
   "cell_type": "code",
   "execution_count": 48,
   "metadata": {},
   "outputs": [
    {
     "name": "stdout",
     "output_type": "stream",
     "text": [
      "803.84\n"
     ]
    }
   ],
   "source": [
    "# Calculate volume of one bottle (in cm^3)\n",
    "V = pi*h*r**2\n",
    "# Print volume of a single bottle\n",
    "print(V)"
   ]
  },
  {
   "cell_type": "markdown",
   "metadata": {},
   "source": [
    "<strong style=\"color:RoyalBlue\">Expected output:</strong>\n",
    "\n",
    "803.84"
   ]
  },
  {
   "cell_type": "markdown",
   "metadata": {},
   "source": [
    "#### C.) Finally, calculate total volume.\n",
    "* Set it to a new variable."
   ]
  },
  {
   "cell_type": "code",
   "execution_count": 49,
   "metadata": {},
   "outputs": [
    {
     "name": "stdout",
     "output_type": "stream",
     "text": [
      "2411.52\n"
     ]
    }
   ],
   "source": [
    "# Calculate total volume\n",
    "total_volume = number_of_bottles * V\n",
    "# Print total volume\n",
    "print(total_volume)"
   ]
  },
  {
   "cell_type": "markdown",
   "metadata": {},
   "source": [
    "#### The mission continues in the next module...\n",
    "\n",
    "Now that you've stocked up on enough water, you're ready to go on your training mission into London. In the next module, we'll start planning the trip and all the locations you'll visit."
   ]
  }
 ],
 "metadata": {
  "anaconda-cloud": {},
  "kernelspec": {
   "display_name": "Python 3",
   "language": "python",
   "name": "python3"
  },
  "language_info": {
   "codemirror_mode": {
    "name": "ipython",
    "version": 3
   },
   "file_extension": ".py",
   "mimetype": "text/x-python",
   "name": "python",
   "nbconvert_exporter": "python",
   "pygments_lexer": "ipython3",
   "version": "3.8.8"
  }
 },
 "nbformat": 4,
 "nbformat_minor": 1
}
